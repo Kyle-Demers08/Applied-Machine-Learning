{
 "cells": [
  {
   "cell_type": "raw",
   "metadata": {},
   "source": []
  },
  {
   "cell_type": "markdown",
   "metadata": {
    "id": "T20SaqB5Cvhy"
   },
   "source": [
    "## The Gradient Descent\n",
    "\n",
    "We want to minimize a cost function that depends on some coefficients. An example in 2-D is\n",
    "\n",
    "$$L(c_1,c_2): = \\frac{1}{n}\\sum (y_i - c_1\\cdot x_{i1} - c_2\\cdot x_{i2})^2$$\n",
    "\n",
    "Here we have a vector $$\\vec{c}:=(c_1,c_2)$$\n",
    "\n",
    "We can think of the vector $\\vec{c}$ having (in this case) two components and a perturbation of $\\vec{c}$ in some direction such as $\\vec{v}.$\n",
    "\n",
    "We consider the function $g(t):=L(\\vec{c}+t\\cdot \\vec{v})$ we get some important ideas:\n",
    "\n",
    "i. if $\\vec{c}$ is ideal for the cost then $t=0$ is min of the function $g$ and so $g'(0)=0.$\n",
    "\n",
    "ii. if $\\vec{c}$ is not minimizing the cost then we want to decrease the function $g$\n",
    "\n",
    "Here we have that $$g'(t):= \\nabla L \\cdot \\vec{v}$$ should be negative (because we want to decrease $g$) and we get a good outcome if \n",
    "\n",
    "$$\\vec{v}:= - \\nabla L$$\n",
    "\n",
    "This means that the coefficients should be updated in the negative direction of the gradient.\n",
    "\n",
    "We can choose a learning rate $t_n$ based on "
   ]
  },
  {
   "cell_type": "markdown",
   "metadata": {
    "id": "XN1gb4FS8Kw2"
   },
   "source": [
    "## An Example with Partial Derivatives\n",
    "\n",
    "$$L(c_1,c_2) = (y-c_1\\cdot x_1-c_2\\cdot x_2)^2$$\n",
    "\n",
    "What are the partial derivatives of $L$ with respect to $c1$ and $c2$?\n",
    "\n",
    "$$\\frac{\\partial{L}}{\\partial{c_1}}= 2\\cdot(y-c_1\\cdot x_1-c_2\\cdot x_2)\\cdot (-x_1)$$\n",
    "\n",
    "$$\\frac{\\partial{L}}{\\partial{c_2}}= 2\\cdot(y-c_1\\cdot x_1-c_2\\cdot x_2)\\cdot (-x_2)$$"
   ]
  },
  {
   "cell_type": "code",
   "execution_count": null,
   "metadata": {
    "id": "82wE8m6yCyAY"
   },
   "outputs": [],
   "source": []
  }
 ],
 "metadata": {
  "colab": {
   "name": "DATA 310 Active Coding Feb 25.ipynb",
   "provenance": []
  },
  "kernelspec": {
   "display_name": "Python 3 (ipykernel)",
   "language": "python",
   "name": "python3"
  },
  "language_info": {
   "codemirror_mode": {
    "name": "ipython",
    "version": 3
   },
   "file_extension": ".py",
   "mimetype": "text/x-python",
   "name": "python",
   "nbconvert_exporter": "python",
   "pygments_lexer": "ipython3",
   "version": "3.9.10"
  }
 },
 "nbformat": 4,
 "nbformat_minor": 4
}
