{
 "cells": [
  {
   "cell_type": "markdown",
   "metadata": {
    "id": "Y2oQmcFPbOG8"
   },
   "source": [
    "# <font color='navy' size=6pt> Association Rules (Data Mining)"
   ]
  },
  {
   "cell_type": "code",
   "execution_count": 1,
   "metadata": {
    "cellView": "form",
    "id": "5WBc2srjbBYN"
   },
   "outputs": [],
   "source": [
    "#@title\n",
    "%matplotlib inline\n",
    "%config InlineBackend.figure_format = 'retina'\n",
    "import matplotlib.pyplot as plt\n",
    "import matplotlib as mpl\n",
    "mpl.rcParams['figure.dpi'] = 120"
   ]
  },
  {
   "cell_type": "code",
   "execution_count": 2,
   "metadata": {
    "id": "1TXkIV4_g_E8"
   },
   "outputs": [
    {
     "name": "stdout",
     "output_type": "stream",
     "text": [
      "Requirement already satisfied: apyori in /opt/conda/lib/python3.9/site-packages (1.1.2)\n"
     ]
    }
   ],
   "source": [
    "!pip install apyori"
   ]
  },
  {
   "cell_type": "code",
   "execution_count": 3,
   "metadata": {
    "id": "HTchA0hchRYB"
   },
   "outputs": [
    {
     "name": "stdout",
     "output_type": "stream",
     "text": [
      "Requirement already satisfied: pandas in /opt/conda/lib/python3.9/site-packages (1.4.1)\n",
      "Requirement already satisfied: pyfim==6.28 in /opt/conda/lib/python3.9/site-packages (6.28)\n",
      "Requirement already satisfied: python-dateutil>=2.8.1 in /opt/conda/lib/python3.9/site-packages (from pandas) (2.8.2)\n",
      "Requirement already satisfied: pytz>=2020.1 in /opt/conda/lib/python3.9/site-packages (from pandas) (2021.3)\n",
      "Requirement already satisfied: numpy>=1.18.5 in /opt/conda/lib/python3.9/site-packages (from pandas) (1.21.5)\n",
      "Requirement already satisfied: six>=1.5 in /opt/conda/lib/python3.9/site-packages (from python-dateutil>=2.8.1->pandas) (1.16.0)\n"
     ]
    }
   ],
   "source": [
    "!pip install pandas pyfim==6.28"
   ]
  },
  {
   "cell_type": "markdown",
   "metadata": {
    "id": "vJyauLvT0fg4"
   },
   "source": [
    "## <font color='blue'> Introduction\n",
    "\n",
    "### Main Idea: in data mining we want determine the most frequent subsets (itemset) from a large set. \n",
    "\n",
    "Example: Imagine we have a set of sets such as, for example: $$\\{\\{a,b,c\\},\\{a,b,d,e\\},\\{a,c,e,f\\},\\{i,g,k,l\\},\\{a,b,h,g,n\\},\\{c,f,i,m\\}\\}$$\n",
    "\n",
    "The subsets inside the bigger set can be referred as \"transactions\" if one imagine different purchases at a store. \n",
    "\n",
    "<font color='red'>Question:</font> in the previous example what were the most frequent items purchased?\n",
    "\n",
    "<font color='green'>Answer:</font> In that example we had a total of 6 transactions among which 4 transactions had the item \"a\" purchased and also 3 transactions had both items \"a\" and \"b\".\n",
    "\n",
    "**Definition**: An association rule has two parts \n",
    "\n",
    "    (i) an antecedent \"if\" and (ii) a consequent \"then\". \n",
    "    \n",
    "<font color='green'>An antecedent is an item found within the data; a consequent is an item found in combination with the antecedent.</font>\n",
    "\n",
    "Thus, association rules can be established by algorithm that can search and count the frequent *if-then* patterns in a database.\n",
    "\n",
    "<span style=\"font-family:Calibri; color:blue; font-size:14pt;\">Main Goal:</span> apply efficient machine learning algorithms for analyzing associations or co-occurrences in a database.\n",
    "\n",
    "During this lesson we are going to study and apply two important algorthms: <span style=\"font-family:Calibri; color:darkred; font-size:12pt;\">APRIORI</span> and <span style=\"font-family:Calibri; color:darkgreen; font-size:12pt;\">ECLAT</span>."
   ]
  },
  {
   "cell_type": "markdown",
   "metadata": {
    "id": "rZhJoHFabJIE"
   },
   "source": [
    "## <font color='blue'> The APRIORI Algorithm </font>\n",
    "\n",
    "Proposed by R. Agrawal and R. Srikant in 1994 for finding frequent itemsets in a dataset for boolean association rule. Name of the algorithm is Apriori because it uses prior knowledge of frequent itemset properties. We apply an iterative approach or level-wise search where k-frequent itemsets are used to find k+1 itemsets.\n",
    "\n",
    "The idea is to search for frequent *if-then* patterns; the algorithm uses the concepts of **support** and **confidence** in order to identify the most frequent (and thus relevant) relationships.\n",
    "\n",
    "#### <span style=\"color:blue\">Support:</span> is a measure of how frequently the items appear in the dataset of all transactions.\n",
    "\n",
    "#### <span style=\"color:blue\">Confidence:</span> represents the number of times the *if-then* statements are found true.\n",
    "\n",
    "#### <span style=\"color:blue\">Lift:</span> is metric that can help compare the confidence vs. the *expected* confidence. \n",
    "\n",
    "#### <span style=\"color:green;font-size:12pt\">Examples:</span>\n",
    "\n",
    "**Support:** Chance you pick someone that took DATA 310 by random i.e. a probability such \n",
    "\n",
    "$$\\mathcal{P}(\\text{course taken = DATA310})=\\frac{\\text{The number of students who took DATA 310}}{\\text{Total number of students}}$$\n",
    "\n",
    "**Confidence:** Chance you pick someone that took DATA 310, given they’re in another course. This is a *conditional* probability, i.e. \n",
    "\n",
    "$$\\mathcal{P}(\\text{course taken = DATA310}|\\text{course taken = DATA146})$$\n",
    "\n",
    "**Lift:** Improvement in chance when you contrast support to confidence such as the ratio \n",
    "\n",
    "$$\\frac{\\mathcal{P}(\\text{course taken = DATA310}|\\text{course taken = DATA146})}{\\mathcal{P}(\\text{course taken = DATA310})}$$\n",
    "\n",
    "In summary: \n",
    "\n",
    "**confidence**(C1, C2) = (# of students enrolled in course C1 and C2) / (# of students enrolled in C1)\n",
    "\n",
    "**lift**(C1, C2) = **confidence**(C1, C2) / **support**(C2)\n",
    "\n",
    "<font color='Red'>APRIORI property: subsets of a frequent itemset must be frequent. If an item is infrequent, all its supersets will be infrequent.</span>\n",
    "\n",
    "###Example:\n",
    "\n",
    "<font color='Green'>\n",
    "\n",
    "| TID |          Items |\n",
    "|-----|---------------:|\n",
    "| T1  |     i1, i2, i5 |\n",
    "| T2  |         i2, i4 |\n",
    "| T3  |         i2, i3 |\n",
    "| T4  |     i1, i2, i4 |\n",
    "| T5  |         i1, i3 |\n",
    "| T6  |         i2, i3 |\n",
    "| T7  |         i1, i3 |\n",
    "| T8  | i1, i2, i3, i5 |\n",
    "| T9  |     i1, i2, i3 |\n",
    "\n",
    "So the minimum support count is 2 and the minimum confidence is 60%.\n",
    "\n",
    "**Step 1**\n",
    "\n",
    "| Itemset | Support Count |\n",
    "|--------:|--------------:|\n",
    "|      i1 |             6 |\n",
    "|      i2 |             7 |\n",
    "|      i3 |             6 |\n",
    "|      i4 |             2 |\n",
    "|      i5 |             2 |\n",
    "\n",
    "**Step 2**\n",
    "\n",
    "| Itemset | Support Count |\n",
    "|--------:|--------------:|\n",
    "|  i1, i2 |             4 |\n",
    "|  i1, i3 |             4 |\n",
    "|  i1, i4 |             1 |\n",
    "|  i1, i5 |             2 |\n",
    "|  i2, i3 |             4 |\n",
    "|  i2, i4 |             2 |\n",
    "|  i2, i5 |             2 |\n",
    "|  i3, i4 |             0 |\n",
    "|  i3, i5 |             1 |\n",
    "|  i4, i5 |             0 |\n",
    "\n",
    "**Step 3**\n",
    "\n",
    "|    Itemset | Support Count |\n",
    "|-----------:|--------------:|\n",
    "| i1, i2, i3 |             2 |\n",
    "| i1, i2, i5 |             2 |\n",
    "\n",
    "After this step we stop since the maximum support is 2. For bigger data sets the algorithm may in continue with more steps if in step 3 the max support  is greater than 2.\n",
    "\n",
    "By using the principle that **Confidence(A->B)=Support_count(A∩B)/Support_count(A)** where **A->B** means **if A then B** we have the follwoing association rules listed in the order of the **Lift**:\n",
    "\n",
    "   - Confidence\\[(i1 and i2)->(i3)\\] = Support(i1 and i2 and i3)/Support(i1 and i2) = 2/4 x 100 = 50%\n",
    "   - Confidence\\[(i1 and i3)->(i2)\\] = Support(i1 and i2 and i3)/Support(i1 and i3) = 2/4 x 100 = 50%\n",
    "   - Confidence\\[(i2 and i3)->(i1)\\] = Support(i1 and i2 and i3)/Support(i2 and i3) = 2/4 x 100 = 50%\n",
    "   - Confidence\\[(i1) -> (i2 and i3)\\] = Support(i1 and i2 and i3)/Support(i1) = 2/6 x 100 = 33%\n",
    "   - Confidence\\[(i2) -> (i1 and i3)\\] = Support(i1 and i2 and i3)/Support(i2) = 2/7 x 100 = 28%\n",
    "   - Confidence\\[(i3) -> (i1 and i2)\\] = Support(i1 and i2 and i3)/Support(i3) = 2/6 x 100 = 33%\n",
    "\n",
    "Thus, the first three rules can be considered as the most important ones or have some significant relevance in this data set.\n",
    "\n",
    "Practical Implementation:\n",
    "\n",
    "     a. Choose a minimum support and confidence: very important for large datasets with many observations. \n",
    "\n",
    "     b. Take all possible subsets that meet minimum support.\n",
    "\n",
    "     c. Calculate all confidence with those subsets; retain those that meet minimum confidence.\n",
    "\n",
    "     d. Report remaining rules (generally in order with highest lift first).\n"
   ]
  },
  {
   "cell_type": "markdown",
   "metadata": {
    "id": "4CJP7-oH0uCC"
   },
   "source": [
    "##  <font color='blue'>The ECLAT Algorithm</font>\n",
    "\n",
    "**ECLAT** is an acronym for Equivalence class Clustering and bottom-up Lattice Traversal.\n",
    "\n",
    "<span style=\"font-family:Calibri; color:blue; font-size:13pt\">Main Idea:  use Transaction Id Sets (tidsets) intersections to compute the support value of a candidate.</span>\n",
    "\n",
    "\n",
    "#### <span style=\"color:green;font-size:12pt\">Example:</span> Case study (movie recommendation engine):\n",
    "\n",
    " - Support(M1,M2) = (# of individuals that liked movie M1 and M2)  / (# of individuals)\n",
    "\n",
    "for example,\n",
    "\n",
    " - Support(Star Wars IV,Star Wars V) = 900 / 1000 = 0.9\n",
    " - Support(Star Wars IV, Star Wars I) = 100 / 1000 = 0.1\n",
    "\n",
    "\n",
    "**ECLAT steps:**\n",
    "\n",
    "    1) Set a minimum joint support.\n",
    "    2) Take all subsets with a higher support than minimum.\n",
    "    3) Sort by decreasing support.\n",
    "\n",
    "#### <span style=\"color:green;font-size:12pt\">Example:</span> Frequently bought items in a grocery store:\n",
    "\n",
    "| TID | Bread | Butter | Milk | Juice | Jam |\n",
    "|----:|------:|-------:|-----:|------:|----:|\n",
    "|  T1 |     1 |      1 |    0 |     0 |   1 |\n",
    "|  T2 |     0 |      1 |    0 |     1 |   0 |\n",
    "|  T3 |     0 |      1 |    1 |     0 |   0 |\n",
    "|  T4 |     1 |      1 |    0 |     1 |   0 |\n",
    "|  T5 |     1 |      0 |    1 |     0 |   0 |\n",
    "|  T6 |     0 |      1 |    1 |     0 |   0 |\n",
    "|  T7 |     1 |      0 |    1 |     0 |   0 |\n",
    "|  T8 |     1 |      1 |    1 |     0 |   1 |\n",
    "|  T9 |     1 |      1 |    1 |     0 |   0 |\n",
    "\n",
    "k = 1 and minimum support = 2\n",
    "\n",
    "| Item   | TIDSET                       |\n",
    "|--------|------------------------------|\n",
    "| Bread  | {T1, T4, T5, T7, T8, T9}     |\n",
    "| Butter | {T1, T2, T3, T4, T6, T8, T9} |\n",
    "| Milk   | {T3, T5, T6, T7, T8, T9}     |\n",
    "| Juice  | {T2, T4}                     |\n",
    "| Jam    | {T1, T8}                     |\n",
    "\n",
    "k = 2\n",
    "\n",
    "|            ITEM | TIDSET           |\n",
    "|----------------:|------------------|\n",
    "| {Bread, Butter} | {T1, T4, T8, T9} |\n",
    "|   {Bread, Milk} | {T5, T7, T8, T9} |\n",
    "|  {Bread, Juice} | {T4}             |\n",
    "|    {Bread, Jam} | {T1, T8}         |\n",
    "|  {Butter, Milk} | {T3, T6, T8, T9} |\n",
    "| {Butter, Juice} | {T2, T4}         |\n",
    "|   {Butter, Jam} | {T1, T8}         |\n",
    "|     {Milk, Jam} | {T8}             |\n",
    "\n",
    "k = 3\n",
    "\n",
    "|                  ITEM | TIDSET   |\n",
    "|----------------------:|----------|\n",
    "| {Bread, Butter, Milk} | {T8, T9} |\n",
    "|  {Bread, Butter, Jam} | {T1, T8} |\n",
    "\n",
    "k = 4 only one transaction: ITEMS:{Bread, Butter, Milk and Jam} TIDSET:{T8}\n",
    "\n",
    "The minimum support is 2 and we infer the following associations:\n",
    "\n",
    "|     ITEMS BOUGHT | RECOMMENDED PRODUCTS |\n",
    "|-----------------:|---------------------:|\n",
    "|            Bread |               Butter |\n",
    "|            Bread |                 Milk |\n",
    "|            Bread |                  Jam |\n",
    "|           Butter |                 Milk |\n",
    "|           Butter |                 Coke |\n",
    "|           Butter |                  Jam |\n",
    "| Bread and Butter |                 Milk |\n",
    "| Bread and Butter |                  Jam |\n"
   ]
  },
  {
   "cell_type": "markdown",
   "metadata": {
    "id": "gOFz_6Onduod"
   },
   "source": [
    "## Example for the APRIORI algorithm in Python with real data"
   ]
  },
  {
   "cell_type": "code",
   "execution_count": 4,
   "metadata": {
    "id": "Euzj8U_9dvhp"
   },
   "outputs": [],
   "source": [
    "# this script is assuming that the apyori.py and pyfim.py scripts (along with the data) are uploaded\n",
    "import pandas as pd\n",
    "import numpy as np\n",
    "from apyori import apriori \n",
    "from fim import eclat"
   ]
  },
  {
   "cell_type": "code",
   "execution_count": 5,
   "metadata": {
    "id": "6m8oNwsWd63Y"
   },
   "outputs": [],
   "source": [
    "order_data = pd.read_csv('order_products_train.csv')\n",
    "product_data = pd.read_csv('product.csv')"
   ]
  },
  {
   "cell_type": "code",
   "execution_count": 6,
   "metadata": {
    "colab": {
     "base_uri": "https://localhost:8080/",
     "height": 425
    },
    "id": "d8hPv-W-d9Fn",
    "outputId": "8bbabd22-5a8a-40b6-ccf4-b81010b06502"
   },
   "outputs": [
    {
     "data": {
      "text/html": [
       "<div>\n",
       "<style scoped>\n",
       "    .dataframe tbody tr th:only-of-type {\n",
       "        vertical-align: middle;\n",
       "    }\n",
       "\n",
       "    .dataframe tbody tr th {\n",
       "        vertical-align: top;\n",
       "    }\n",
       "\n",
       "    .dataframe thead th {\n",
       "        text-align: right;\n",
       "    }\n",
       "</style>\n",
       "<table border=\"1\" class=\"dataframe\">\n",
       "  <thead>\n",
       "    <tr style=\"text-align: right;\">\n",
       "      <th></th>\n",
       "      <th>order_id</th>\n",
       "      <th>product_id</th>\n",
       "      <th>add_to_cart_order</th>\n",
       "      <th>reordered</th>\n",
       "    </tr>\n",
       "  </thead>\n",
       "  <tbody>\n",
       "    <tr>\n",
       "      <th>0</th>\n",
       "      <td>1</td>\n",
       "      <td>49302</td>\n",
       "      <td>1</td>\n",
       "      <td>1</td>\n",
       "    </tr>\n",
       "    <tr>\n",
       "      <th>1</th>\n",
       "      <td>1</td>\n",
       "      <td>11109</td>\n",
       "      <td>2</td>\n",
       "      <td>1</td>\n",
       "    </tr>\n",
       "    <tr>\n",
       "      <th>2</th>\n",
       "      <td>1</td>\n",
       "      <td>10246</td>\n",
       "      <td>3</td>\n",
       "      <td>0</td>\n",
       "    </tr>\n",
       "    <tr>\n",
       "      <th>3</th>\n",
       "      <td>1</td>\n",
       "      <td>49683</td>\n",
       "      <td>4</td>\n",
       "      <td>0</td>\n",
       "    </tr>\n",
       "    <tr>\n",
       "      <th>4</th>\n",
       "      <td>1</td>\n",
       "      <td>43633</td>\n",
       "      <td>5</td>\n",
       "      <td>1</td>\n",
       "    </tr>\n",
       "    <tr>\n",
       "      <th>5</th>\n",
       "      <td>1</td>\n",
       "      <td>13176</td>\n",
       "      <td>6</td>\n",
       "      <td>0</td>\n",
       "    </tr>\n",
       "    <tr>\n",
       "      <th>6</th>\n",
       "      <td>1</td>\n",
       "      <td>47209</td>\n",
       "      <td>7</td>\n",
       "      <td>0</td>\n",
       "    </tr>\n",
       "    <tr>\n",
       "      <th>7</th>\n",
       "      <td>1</td>\n",
       "      <td>22035</td>\n",
       "      <td>8</td>\n",
       "      <td>1</td>\n",
       "    </tr>\n",
       "    <tr>\n",
       "      <th>8</th>\n",
       "      <td>36</td>\n",
       "      <td>39612</td>\n",
       "      <td>1</td>\n",
       "      <td>0</td>\n",
       "    </tr>\n",
       "    <tr>\n",
       "      <th>9</th>\n",
       "      <td>36</td>\n",
       "      <td>19660</td>\n",
       "      <td>2</td>\n",
       "      <td>1</td>\n",
       "    </tr>\n",
       "    <tr>\n",
       "      <th>10</th>\n",
       "      <td>36</td>\n",
       "      <td>49235</td>\n",
       "      <td>3</td>\n",
       "      <td>0</td>\n",
       "    </tr>\n",
       "    <tr>\n",
       "      <th>11</th>\n",
       "      <td>36</td>\n",
       "      <td>43086</td>\n",
       "      <td>4</td>\n",
       "      <td>1</td>\n",
       "    </tr>\n",
       "  </tbody>\n",
       "</table>\n",
       "</div>"
      ],
      "text/plain": [
       "    order_id  product_id  add_to_cart_order  reordered\n",
       "0          1       49302                  1          1\n",
       "1          1       11109                  2          1\n",
       "2          1       10246                  3          0\n",
       "3          1       49683                  4          0\n",
       "4          1       43633                  5          1\n",
       "5          1       13176                  6          0\n",
       "6          1       47209                  7          0\n",
       "7          1       22035                  8          1\n",
       "8         36       39612                  1          0\n",
       "9         36       19660                  2          1\n",
       "10        36       49235                  3          0\n",
       "11        36       43086                  4          1"
      ]
     },
     "execution_count": 6,
     "metadata": {},
     "output_type": "execute_result"
    }
   ],
   "source": [
    "# inspect the content of order_data\n",
    "order_data.head(12)"
   ]
  },
  {
   "cell_type": "code",
   "execution_count": 7,
   "metadata": {
    "colab": {
     "base_uri": "https://localhost:8080/",
     "height": 423
    },
    "id": "P6pDcwFvZ1-5",
    "outputId": "b1d01cee-bcbc-4dc0-cdb6-2aada270812f"
   },
   "outputs": [
    {
     "data": {
      "text/html": [
       "<div>\n",
       "<style scoped>\n",
       "    .dataframe tbody tr th:only-of-type {\n",
       "        vertical-align: middle;\n",
       "    }\n",
       "\n",
       "    .dataframe tbody tr th {\n",
       "        vertical-align: top;\n",
       "    }\n",
       "\n",
       "    .dataframe thead th {\n",
       "        text-align: right;\n",
       "    }\n",
       "</style>\n",
       "<table border=\"1\" class=\"dataframe\">\n",
       "  <thead>\n",
       "    <tr style=\"text-align: right;\">\n",
       "      <th></th>\n",
       "      <th>product_id</th>\n",
       "      <th>product_name</th>\n",
       "      <th>aisle_id</th>\n",
       "      <th>department_id</th>\n",
       "    </tr>\n",
       "  </thead>\n",
       "  <tbody>\n",
       "    <tr>\n",
       "      <th>0</th>\n",
       "      <td>1</td>\n",
       "      <td>Chocolate Sandwich Cookies</td>\n",
       "      <td>61</td>\n",
       "      <td>19</td>\n",
       "    </tr>\n",
       "    <tr>\n",
       "      <th>1</th>\n",
       "      <td>2</td>\n",
       "      <td>All-Seasons Salt</td>\n",
       "      <td>104</td>\n",
       "      <td>13</td>\n",
       "    </tr>\n",
       "    <tr>\n",
       "      <th>2</th>\n",
       "      <td>3</td>\n",
       "      <td>Robust Golden Unsweetened Oolong Tea</td>\n",
       "      <td>94</td>\n",
       "      <td>7</td>\n",
       "    </tr>\n",
       "    <tr>\n",
       "      <th>3</th>\n",
       "      <td>4</td>\n",
       "      <td>Smart Ones Classic Favorites Mini Rigatoni Wit...</td>\n",
       "      <td>38</td>\n",
       "      <td>1</td>\n",
       "    </tr>\n",
       "    <tr>\n",
       "      <th>4</th>\n",
       "      <td>5</td>\n",
       "      <td>Green Chile Anytime Sauce</td>\n",
       "      <td>5</td>\n",
       "      <td>13</td>\n",
       "    </tr>\n",
       "    <tr>\n",
       "      <th>...</th>\n",
       "      <td>...</td>\n",
       "      <td>...</td>\n",
       "      <td>...</td>\n",
       "      <td>...</td>\n",
       "    </tr>\n",
       "    <tr>\n",
       "      <th>49683</th>\n",
       "      <td>49684</td>\n",
       "      <td>Vodka, Triple Distilled, Twist of Vanilla</td>\n",
       "      <td>124</td>\n",
       "      <td>5</td>\n",
       "    </tr>\n",
       "    <tr>\n",
       "      <th>49684</th>\n",
       "      <td>49685</td>\n",
       "      <td>En Croute Roast Hazelnut Cranberry</td>\n",
       "      <td>42</td>\n",
       "      <td>1</td>\n",
       "    </tr>\n",
       "    <tr>\n",
       "      <th>49685</th>\n",
       "      <td>49686</td>\n",
       "      <td>Artisan Baguette</td>\n",
       "      <td>112</td>\n",
       "      <td>3</td>\n",
       "    </tr>\n",
       "    <tr>\n",
       "      <th>49686</th>\n",
       "      <td>49687</td>\n",
       "      <td>Smartblend Healthy Metabolism Dry Cat Food</td>\n",
       "      <td>41</td>\n",
       "      <td>8</td>\n",
       "    </tr>\n",
       "    <tr>\n",
       "      <th>49687</th>\n",
       "      <td>49688</td>\n",
       "      <td>Fresh Foaming Cleanser</td>\n",
       "      <td>73</td>\n",
       "      <td>11</td>\n",
       "    </tr>\n",
       "  </tbody>\n",
       "</table>\n",
       "<p>49688 rows × 4 columns</p>\n",
       "</div>"
      ],
      "text/plain": [
       "       product_id                                       product_name  \\\n",
       "0               1                         Chocolate Sandwich Cookies   \n",
       "1               2                                   All-Seasons Salt   \n",
       "2               3               Robust Golden Unsweetened Oolong Tea   \n",
       "3               4  Smart Ones Classic Favorites Mini Rigatoni Wit...   \n",
       "4               5                          Green Chile Anytime Sauce   \n",
       "...           ...                                                ...   \n",
       "49683       49684          Vodka, Triple Distilled, Twist of Vanilla   \n",
       "49684       49685                 En Croute Roast Hazelnut Cranberry   \n",
       "49685       49686                                   Artisan Baguette   \n",
       "49686       49687         Smartblend Healthy Metabolism Dry Cat Food   \n",
       "49687       49688                             Fresh Foaming Cleanser   \n",
       "\n",
       "       aisle_id  department_id  \n",
       "0            61             19  \n",
       "1           104             13  \n",
       "2            94              7  \n",
       "3            38              1  \n",
       "4             5             13  \n",
       "...         ...            ...  \n",
       "49683       124              5  \n",
       "49684        42              1  \n",
       "49685       112              3  \n",
       "49686        41              8  \n",
       "49687        73             11  \n",
       "\n",
       "[49688 rows x 4 columns]"
      ]
     },
     "execution_count": 7,
     "metadata": {},
     "output_type": "execute_result"
    }
   ],
   "source": [
    "product_data"
   ]
  },
  {
   "cell_type": "code",
   "execution_count": 8,
   "metadata": {
    "colab": {
     "base_uri": "https://localhost:8080/",
     "height": 425
    },
    "id": "tXUv2-preGM2",
    "outputId": "84b2898e-187c-4044-f874-44e53f97c1e3"
   },
   "outputs": [
    {
     "data": {
      "text/html": [
       "<div>\n",
       "<style scoped>\n",
       "    .dataframe tbody tr th:only-of-type {\n",
       "        vertical-align: middle;\n",
       "    }\n",
       "\n",
       "    .dataframe tbody tr th {\n",
       "        vertical-align: top;\n",
       "    }\n",
       "\n",
       "    .dataframe thead th {\n",
       "        text-align: right;\n",
       "    }\n",
       "</style>\n",
       "<table border=\"1\" class=\"dataframe\">\n",
       "  <thead>\n",
       "    <tr style=\"text-align: right;\">\n",
       "      <th></th>\n",
       "      <th>order_id</th>\n",
       "      <th>product_id</th>\n",
       "      <th>add_to_cart_order</th>\n",
       "      <th>reordered</th>\n",
       "      <th>product_name</th>\n",
       "      <th>aisle_id</th>\n",
       "      <th>department_id</th>\n",
       "    </tr>\n",
       "  </thead>\n",
       "  <tbody>\n",
       "    <tr>\n",
       "      <th>0</th>\n",
       "      <td>1</td>\n",
       "      <td>49302</td>\n",
       "      <td>1</td>\n",
       "      <td>1</td>\n",
       "      <td>Bulgarian Yogurt</td>\n",
       "      <td>120</td>\n",
       "      <td>16</td>\n",
       "    </tr>\n",
       "    <tr>\n",
       "      <th>1</th>\n",
       "      <td>816049</td>\n",
       "      <td>49302</td>\n",
       "      <td>7</td>\n",
       "      <td>1</td>\n",
       "      <td>Bulgarian Yogurt</td>\n",
       "      <td>120</td>\n",
       "      <td>16</td>\n",
       "    </tr>\n",
       "    <tr>\n",
       "      <th>2</th>\n",
       "      <td>1242203</td>\n",
       "      <td>49302</td>\n",
       "      <td>1</td>\n",
       "      <td>1</td>\n",
       "      <td>Bulgarian Yogurt</td>\n",
       "      <td>120</td>\n",
       "      <td>16</td>\n",
       "    </tr>\n",
       "    <tr>\n",
       "      <th>3</th>\n",
       "      <td>1383349</td>\n",
       "      <td>49302</td>\n",
       "      <td>11</td>\n",
       "      <td>1</td>\n",
       "      <td>Bulgarian Yogurt</td>\n",
       "      <td>120</td>\n",
       "      <td>16</td>\n",
       "    </tr>\n",
       "    <tr>\n",
       "      <th>4</th>\n",
       "      <td>1787378</td>\n",
       "      <td>49302</td>\n",
       "      <td>8</td>\n",
       "      <td>0</td>\n",
       "      <td>Bulgarian Yogurt</td>\n",
       "      <td>120</td>\n",
       "      <td>16</td>\n",
       "    </tr>\n",
       "    <tr>\n",
       "      <th>5</th>\n",
       "      <td>2445303</td>\n",
       "      <td>49302</td>\n",
       "      <td>2</td>\n",
       "      <td>1</td>\n",
       "      <td>Bulgarian Yogurt</td>\n",
       "      <td>120</td>\n",
       "      <td>16</td>\n",
       "    </tr>\n",
       "    <tr>\n",
       "      <th>6</th>\n",
       "      <td>2853065</td>\n",
       "      <td>49302</td>\n",
       "      <td>12</td>\n",
       "      <td>1</td>\n",
       "      <td>Bulgarian Yogurt</td>\n",
       "      <td>120</td>\n",
       "      <td>16</td>\n",
       "    </tr>\n",
       "    <tr>\n",
       "      <th>7</th>\n",
       "      <td>3231517</td>\n",
       "      <td>49302</td>\n",
       "      <td>6</td>\n",
       "      <td>1</td>\n",
       "      <td>Bulgarian Yogurt</td>\n",
       "      <td>120</td>\n",
       "      <td>16</td>\n",
       "    </tr>\n",
       "    <tr>\n",
       "      <th>8</th>\n",
       "      <td>1</td>\n",
       "      <td>11109</td>\n",
       "      <td>2</td>\n",
       "      <td>1</td>\n",
       "      <td>Organic 4% Milk Fat Whole Milk Cottage Cheese</td>\n",
       "      <td>108</td>\n",
       "      <td>16</td>\n",
       "    </tr>\n",
       "    <tr>\n",
       "      <th>9</th>\n",
       "      <td>68474</td>\n",
       "      <td>11109</td>\n",
       "      <td>8</td>\n",
       "      <td>1</td>\n",
       "      <td>Organic 4% Milk Fat Whole Milk Cottage Cheese</td>\n",
       "      <td>108</td>\n",
       "      <td>16</td>\n",
       "    </tr>\n",
       "    <tr>\n",
       "      <th>10</th>\n",
       "      <td>78197</td>\n",
       "      <td>11109</td>\n",
       "      <td>3</td>\n",
       "      <td>1</td>\n",
       "      <td>Organic 4% Milk Fat Whole Milk Cottage Cheese</td>\n",
       "      <td>108</td>\n",
       "      <td>16</td>\n",
       "    </tr>\n",
       "    <tr>\n",
       "      <th>11</th>\n",
       "      <td>120619</td>\n",
       "      <td>11109</td>\n",
       "      <td>1</td>\n",
       "      <td>0</td>\n",
       "      <td>Organic 4% Milk Fat Whole Milk Cottage Cheese</td>\n",
       "      <td>108</td>\n",
       "      <td>16</td>\n",
       "    </tr>\n",
       "  </tbody>\n",
       "</table>\n",
       "</div>"
      ],
      "text/plain": [
       "    order_id  product_id  add_to_cart_order  reordered  \\\n",
       "0          1       49302                  1          1   \n",
       "1     816049       49302                  7          1   \n",
       "2    1242203       49302                  1          1   \n",
       "3    1383349       49302                 11          1   \n",
       "4    1787378       49302                  8          0   \n",
       "5    2445303       49302                  2          1   \n",
       "6    2853065       49302                 12          1   \n",
       "7    3231517       49302                  6          1   \n",
       "8          1       11109                  2          1   \n",
       "9      68474       11109                  8          1   \n",
       "10     78197       11109                  3          1   \n",
       "11    120619       11109                  1          0   \n",
       "\n",
       "                                     product_name  aisle_id  department_id  \n",
       "0                                Bulgarian Yogurt       120             16  \n",
       "1                                Bulgarian Yogurt       120             16  \n",
       "2                                Bulgarian Yogurt       120             16  \n",
       "3                                Bulgarian Yogurt       120             16  \n",
       "4                                Bulgarian Yogurt       120             16  \n",
       "5                                Bulgarian Yogurt       120             16  \n",
       "6                                Bulgarian Yogurt       120             16  \n",
       "7                                Bulgarian Yogurt       120             16  \n",
       "8   Organic 4% Milk Fat Whole Milk Cottage Cheese       108             16  \n",
       "9   Organic 4% Milk Fat Whole Milk Cottage Cheese       108             16  \n",
       "10  Organic 4% Milk Fat Whole Milk Cottage Cheese       108             16  \n",
       "11  Organic 4% Milk Fat Whole Milk Cottage Cheese       108             16  "
      ]
     },
     "execution_count": 8,
     "metadata": {},
     "output_type": "execute_result"
    }
   ],
   "source": [
    "named_orders = pd.merge(order_data,product_data,on='product_id')\n",
    "named_orders.head(12)"
   ]
  },
  {
   "cell_type": "code",
   "execution_count": 9,
   "metadata": {
    "colab": {
     "base_uri": "https://localhost:8080/"
    },
    "id": "omYiRn0BdVnJ",
    "outputId": "21cb5cf9-4f0a-4b46-b3ea-c89e628e4b59"
   },
   "outputs": [
    {
     "data": {
      "text/plain": [
       "Banana                    18726\n",
       "Bag of Organic Bananas    15480\n",
       "Organic Strawberries      10894\n",
       "Organic Baby Spinach       9784\n",
       "Large Lemon                8135\n",
       "Organic Avocado            7409\n",
       "Organic Hass Avocado       7293\n",
       "Strawberries               6494\n",
       "Limes                      6033\n",
       "Organic Raspberries        5546\n",
       "Organic Blueberries        4966\n",
       "Organic Whole Milk         4908\n",
       "Organic Cucumber           4613\n",
       "Organic Zucchini           4589\n",
       "Organic Yellow Onion       4290\n",
       "Organic Garlic             4158\n",
       "Seedless Red Grapes        4059\n",
       "Asparagus                  3868\n",
       "Organic Grape Tomatoes     3823\n",
       "Organic Red Onion          3818\n",
       "Name: product_name, dtype: int64"
      ]
     },
     "execution_count": 9,
     "metadata": {},
     "output_type": "execute_result"
    }
   ],
   "source": [
    "# get the count for the different products purchased\n",
    "counts = named_orders['product_name'].value_counts()\n",
    "# the top 20 most purchased products\n",
    "counts.head(20)"
   ]
  },
  {
   "cell_type": "code",
   "execution_count": 10,
   "metadata": {
    "id": "oGBhrkEBpxiC"
   },
   "outputs": [],
   "source": [
    "# we can apply Otsu's method to threshold the count values\n",
    "# we need candidate percentiles\n",
    "t = np.linspace(28,98,num=1000)\n",
    "cost = []\n",
    "data = np.log(counts)"
   ]
  },
  {
   "cell_type": "code",
   "execution_count": 11,
   "metadata": {
    "id": "l6BnX1PBpxot"
   },
   "outputs": [],
   "source": [
    "# now we generate all cost values\n",
    "for i in t:\n",
    "  data1 = data[data<np.percentile(data,i)]\n",
    "  data2 = data[data>=np.percentile(data,i)]\n",
    "  cost.append(i*np.var(data1)+(100-i)*np.var(data2))"
   ]
  },
  {
   "cell_type": "code",
   "execution_count": 12,
   "metadata": {
    "colab": {
     "base_uri": "https://localhost:8080/",
     "height": 431
    },
    "id": "_FdWm43QpxsR",
    "outputId": "028fabc3-9c85-4b60-a044-b32f33e12142"
   },
   "outputs": [
    {
     "data": {
      "image/png": "[encoded data removed]",
      "text/plain": [
       "<Figure size 720x480 with 1 Axes>"
      ]
     },
     "metadata": {
      "image/png": {
       "height": 414,
       "width": 630
      },
      "needs_background": "light"
     },
     "output_type": "display_data"
    }
   ],
   "source": [
    "# plot the cost vs percentiles\n",
    "plt.plot(t,cost)\n",
    "plt.show()"
   ]
  },
  {
   "cell_type": "code",
   "execution_count": 13,
   "metadata": {
    "colab": {
     "base_uri": "https://localhost:8080/"
    },
    "id": "y2GuS_EXs_Wo",
    "outputId": "dd1916a4-4c70-4851-9536-68041c881b66"
   },
   "outputs": [
    {
     "name": "stdout",
     "output_type": "stream",
     "text": [
      "388\n"
     ]
    }
   ],
   "source": [
    "v = counts[np.argmin(cost)]\n",
    "print(v)"
   ]
  },
  {
   "cell_type": "code",
   "execution_count": 14,
   "metadata": {
    "colab": {
     "base_uri": "https://localhost:8080/"
    },
    "id": "lUfAL9EOsZ_D",
    "outputId": "5d15cb2a-f918-4c31-df7f-0f690a224641"
   },
   "outputs": [
    {
     "name": "stdout",
     "output_type": "stream",
     "text": [
      "the value for the chosen percentile  is : 63.87587587587588\n"
     ]
    }
   ],
   "source": [
    "p = t[np.argmin(cost)]\n",
    "print('the value for the chosen percentile  is : '+str(p))"
   ]
  },
  {
   "cell_type": "code",
   "execution_count": 15,
   "metadata": {
    "colab": {
     "base_uri": "https://localhost:8080/"
    },
    "id": "qg8xpusjr_c8",
    "outputId": "772496c7-4a0e-4eb0-a282-be22203e63ea"
   },
   "outputs": [
    {
     "name": "stdout",
     "output_type": "stream",
     "text": [
      "the value for thresholding is : 9.0\n"
     ]
    }
   ],
   "source": [
    "# let's get the minimum for the cost:\n",
    "v = np.percentile(counts,p)\n",
    "print('the value for thresholding is : '+str(v))"
   ]
  },
  {
   "cell_type": "code",
   "execution_count": 16,
   "metadata": {
    "colab": {
     "base_uri": "https://localhost:8080/",
     "height": 431
    },
    "id": "cf6XfzQPef64",
    "outputId": "45f09d4c-159a-411e-bcaf-5580a5be4649"
   },
   "outputs": [
    {
     "data": {
      "image/png": "[encoded data removed]",
      "text/plain": [
       "<Figure size 720x480 with 1 Axes>"
      ]
     },
     "metadata": {
      "image/png": {
       "height": 414,
       "width": 636
      },
      "needs_background": "light"
     },
     "output_type": "display_data"
    }
   ],
   "source": [
    "# we can visualize this the frequency distribution as a histogram and retain a list with the most frequently purchased\n",
    "counts = counts[counts > v]\n",
    "plt.hist(np.log(counts.values), bins=21,color='green',edgecolor='k',rwidth=0.9,alpha=0.5)\n",
    "plt.show()"
   ]
  },
  {
   "cell_type": "code",
   "execution_count": 17,
   "metadata": {
    "colab": {
     "base_uri": "https://localhost:8080/",
     "height": 423
    },
    "id": "xqUEeNoRegl_",
    "outputId": "93642eec-ade2-4074-c497-10c59d5d820a"
   },
   "outputs": [
    {
     "data": {
      "text/html": [
       "<div>\n",
       "<style scoped>\n",
       "    .dataframe tbody tr th:only-of-type {\n",
       "        vertical-align: middle;\n",
       "    }\n",
       "\n",
       "    .dataframe tbody tr th {\n",
       "        vertical-align: top;\n",
       "    }\n",
       "\n",
       "    .dataframe thead th {\n",
       "        text-align: right;\n",
       "    }\n",
       "</style>\n",
       "<table border=\"1\" class=\"dataframe\">\n",
       "  <thead>\n",
       "    <tr style=\"text-align: right;\">\n",
       "      <th></th>\n",
       "      <th>order_id</th>\n",
       "      <th>product_id</th>\n",
       "      <th>add_to_cart_order</th>\n",
       "      <th>reordered</th>\n",
       "      <th>product_name</th>\n",
       "      <th>aisle_id</th>\n",
       "      <th>department_id</th>\n",
       "    </tr>\n",
       "  </thead>\n",
       "  <tbody>\n",
       "    <tr>\n",
       "      <th>8</th>\n",
       "      <td>1</td>\n",
       "      <td>11109</td>\n",
       "      <td>2</td>\n",
       "      <td>1</td>\n",
       "      <td>Organic 4% Milk Fat Whole Milk Cottage Cheese</td>\n",
       "      <td>108</td>\n",
       "      <td>16</td>\n",
       "    </tr>\n",
       "    <tr>\n",
       "      <th>9</th>\n",
       "      <td>68474</td>\n",
       "      <td>11109</td>\n",
       "      <td>8</td>\n",
       "      <td>1</td>\n",
       "      <td>Organic 4% Milk Fat Whole Milk Cottage Cheese</td>\n",
       "      <td>108</td>\n",
       "      <td>16</td>\n",
       "    </tr>\n",
       "    <tr>\n",
       "      <th>10</th>\n",
       "      <td>78197</td>\n",
       "      <td>11109</td>\n",
       "      <td>3</td>\n",
       "      <td>1</td>\n",
       "      <td>Organic 4% Milk Fat Whole Milk Cottage Cheese</td>\n",
       "      <td>108</td>\n",
       "      <td>16</td>\n",
       "    </tr>\n",
       "    <tr>\n",
       "      <th>11</th>\n",
       "      <td>120619</td>\n",
       "      <td>11109</td>\n",
       "      <td>1</td>\n",
       "      <td>0</td>\n",
       "      <td>Organic 4% Milk Fat Whole Milk Cottage Cheese</td>\n",
       "      <td>108</td>\n",
       "      <td>16</td>\n",
       "    </tr>\n",
       "    <tr>\n",
       "      <th>12</th>\n",
       "      <td>128666</td>\n",
       "      <td>11109</td>\n",
       "      <td>12</td>\n",
       "      <td>1</td>\n",
       "      <td>Organic 4% Milk Fat Whole Milk Cottage Cheese</td>\n",
       "      <td>108</td>\n",
       "      <td>16</td>\n",
       "    </tr>\n",
       "    <tr>\n",
       "      <th>...</th>\n",
       "      <td>...</td>\n",
       "      <td>...</td>\n",
       "      <td>...</td>\n",
       "      <td>...</td>\n",
       "      <td>...</td>\n",
       "      <td>...</td>\n",
       "      <td>...</td>\n",
       "    </tr>\n",
       "    <tr>\n",
       "      <th>1378100</th>\n",
       "      <td>2761238</td>\n",
       "      <td>3730</td>\n",
       "      <td>7</td>\n",
       "      <td>1</td>\n",
       "      <td>Crumbled Feta Cheese, Fat Free</td>\n",
       "      <td>21</td>\n",
       "      <td>16</td>\n",
       "    </tr>\n",
       "    <tr>\n",
       "      <th>1378101</th>\n",
       "      <td>2904561</td>\n",
       "      <td>3730</td>\n",
       "      <td>1</td>\n",
       "      <td>1</td>\n",
       "      <td>Crumbled Feta Cheese, Fat Free</td>\n",
       "      <td>21</td>\n",
       "      <td>16</td>\n",
       "    </tr>\n",
       "    <tr>\n",
       "      <th>1378102</th>\n",
       "      <td>3193207</td>\n",
       "      <td>3730</td>\n",
       "      <td>24</td>\n",
       "      <td>0</td>\n",
       "      <td>Crumbled Feta Cheese, Fat Free</td>\n",
       "      <td>21</td>\n",
       "      <td>16</td>\n",
       "    </tr>\n",
       "    <tr>\n",
       "      <th>1378103</th>\n",
       "      <td>3199506</td>\n",
       "      <td>3730</td>\n",
       "      <td>12</td>\n",
       "      <td>1</td>\n",
       "      <td>Crumbled Feta Cheese, Fat Free</td>\n",
       "      <td>21</td>\n",
       "      <td>16</td>\n",
       "    </tr>\n",
       "    <tr>\n",
       "      <th>1378104</th>\n",
       "      <td>3238333</td>\n",
       "      <td>3730</td>\n",
       "      <td>12</td>\n",
       "      <td>0</td>\n",
       "      <td>Crumbled Feta Cheese, Fat Free</td>\n",
       "      <td>21</td>\n",
       "      <td>16</td>\n",
       "    </tr>\n",
       "  </tbody>\n",
       "</table>\n",
       "<p>1304201 rows × 7 columns</p>\n",
       "</div>"
      ],
      "text/plain": [
       "         order_id  product_id  add_to_cart_order  reordered  \\\n",
       "8               1       11109                  2          1   \n",
       "9           68474       11109                  8          1   \n",
       "10          78197       11109                  3          1   \n",
       "11         120619       11109                  1          0   \n",
       "12         128666       11109                 12          1   \n",
       "...           ...         ...                ...        ...   \n",
       "1378100   2761238        3730                  7          1   \n",
       "1378101   2904561        3730                  1          1   \n",
       "1378102   3193207        3730                 24          0   \n",
       "1378103   3199506        3730                 12          1   \n",
       "1378104   3238333        3730                 12          0   \n",
       "\n",
       "                                          product_name  aisle_id  \\\n",
       "8        Organic 4% Milk Fat Whole Milk Cottage Cheese       108   \n",
       "9        Organic 4% Milk Fat Whole Milk Cottage Cheese       108   \n",
       "10       Organic 4% Milk Fat Whole Milk Cottage Cheese       108   \n",
       "11       Organic 4% Milk Fat Whole Milk Cottage Cheese       108   \n",
       "12       Organic 4% Milk Fat Whole Milk Cottage Cheese       108   \n",
       "...                                                ...       ...   \n",
       "1378100                 Crumbled Feta Cheese, Fat Free        21   \n",
       "1378101                 Crumbled Feta Cheese, Fat Free        21   \n",
       "1378102                 Crumbled Feta Cheese, Fat Free        21   \n",
       "1378103                 Crumbled Feta Cheese, Fat Free        21   \n",
       "1378104                 Crumbled Feta Cheese, Fat Free        21   \n",
       "\n",
       "         department_id  \n",
       "8                   16  \n",
       "9                   16  \n",
       "10                  16  \n",
       "11                  16  \n",
       "12                  16  \n",
       "...                ...  \n",
       "1378100             16  \n",
       "1378101             16  \n",
       "1378102             16  \n",
       "1378103             16  \n",
       "1378104             16  \n",
       "\n",
       "[1304201 rows x 7 columns]"
      ]
     },
     "execution_count": 17,
     "metadata": {},
     "output_type": "execute_result"
    }
   ],
   "source": [
    "selected_orders = named_orders[named_orders['product_name'].isin(counts.index.values.tolist())]\n",
    "selected_orders"
   ]
  },
  {
   "cell_type": "code",
   "execution_count": null,
   "metadata": {
    "id": "APkhNk7Uen3Q"
   },
   "outputs": [],
   "source": [
    "pd.options.mode.chained_assignment = None\n",
    "selected_orders['cols'] = selected_orders.groupby('order_id').cumcount()\n",
    "selected_pivot = selected_orders.pivot(index = 'order_id',columns = 'cols')[['product_name']]"
   ]
  },
  {
   "cell_type": "code",
   "execution_count": null,
   "metadata": {
    "colab": {
     "base_uri": "https://localhost:8080/",
     "height": 1000
    },
    "id": "dTA7NGDFeqm5",
    "outputId": "0ea66966-cdb2-4154-b8e8-14c0ca99e1f8"
   },
   "outputs": [],
   "source": [
    "selected_pivot"
   ]
  },
  {
   "cell_type": "code",
   "execution_count": null,
   "metadata": {
    "id": "7i1cjt2aet-h"
   },
   "outputs": [],
   "source": [
    "# now we can get the list of the purchased items for each transaction\n",
    "purchases = []\n",
    "for i in range(0,len(selected_pivot)):\n",
    "    purchases.append([str(selected_pivot.values[i,j]) for j in range(0,25)])"
   ]
  },
  {
   "cell_type": "code",
   "execution_count": null,
   "metadata": {
    "colab": {
     "base_uri": "https://localhost:8080/"
    },
    "id": "7MN9idsNeuBX",
    "outputId": "cbecf592-e142-44cf-f698-66412e53c426"
   },
   "outputs": [],
   "source": [
    "# ex. purchased items in the ith transaction - only three items: Bananas, Pure Irish Butter and Michigan organic Kale\n",
    "purchases[9]"
   ]
  },
  {
   "cell_type": "code",
   "execution_count": null,
   "metadata": {
    "id": "M18dgN9yeuDy"
   },
   "outputs": [],
   "source": [
    "# we create rules for the APRIORI algorithm\n",
    "rules = apriori(purchases, min_support = .01, min_confidence = 0.1, min_lift=2, max_length=20)"
   ]
  },
  {
   "cell_type": "code",
   "execution_count": null,
   "metadata": {
    "id": "FbxlyvqTeuGG"
   },
   "outputs": [],
   "source": [
    "results = list(rules)"
   ]
  },
  {
   "cell_type": "code",
   "execution_count": null,
   "metadata": {
    "colab": {
     "base_uri": "https://localhost:8080/"
    },
    "id": "DIgOVphATDEy",
    "outputId": "6ab6749b-cd6b-4184-e4a8-364d2c2a68f1"
   },
   "outputs": [],
   "source": [
    "results[13].ordered_statistics[0].items_add"
   ]
  },
  {
   "cell_type": "code",
   "execution_count": null,
   "metadata": {
    "colab": {
     "base_uri": "https://localhost:8080/"
    },
    "id": "Z1kkEB-zdia5",
    "outputId": "b3a17a67-85da-4518-e87a-61479119465a"
   },
   "outputs": [],
   "source": [
    "results[0].ordered_statistics[0].confidence"
   ]
  },
  {
   "cell_type": "code",
   "execution_count": null,
   "metadata": {
    "colab": {
     "base_uri": "https://localhost:8080/"
    },
    "id": "Ja-D8rCVeuIw",
    "outputId": "9736ef47-45f8-49e5-cd5c-c099134a421e"
   },
   "outputs": [],
   "source": [
    "rules = 0\n",
    "for i in range(0,len(results)): \n",
    "    result = results[i]\n",
    "    supp   = int(result.support*10000)/100\n",
    "    conf   = int(result.ordered_statistics[0].confidence*100)\n",
    "    hypo   = ''.join([x+' ' for x in result.ordered_statistics[0].items_base])\n",
    "    conc   = ''.join([x+' ' for x in result.ordered_statistics[0].items_add if x!='nan'])\n",
    "    if \"nan\" not in hypo:\n",
    "        rules = rules + 1\n",
    "        print(\"If \"+str(hypo)+\" is purchased, \" +str(conf)+\" % of the time \" + str(conc)+\" is purchased [support - \" +str(supp)+\"%]\")\n",
    "print(\"Total rules built : \" +str(rules))"
   ]
  },
  {
   "cell_type": "code",
   "execution_count": null,
   "metadata": {
    "colab": {
     "base_uri": "https://localhost:8080/"
    },
    "id": "2gL6LIT1e7Sf",
    "outputId": "f5137011-4d1b-4d44-b911-96cf1a0b0380"
   },
   "outputs": [],
   "source": [
    "for item in results:\n",
    "    pair = item[0]\n",
    "    # We cannot seem to tell apriori to ignore NaN items, so we will refrain from printing results containing them\n",
    "    # they will be returned as lower-case text \"nan\".\n",
    "    if \"nan\" not in pair:\n",
    "        items = [x for x in pair]\n",
    "        print(\"Rule: \" + items[0] + \" -> \" + items[1])\n",
    "\n",
    "        #second index of the inner list\n",
    "        print(\"Support: \" + str(round(item[1]*100,2)) + \"%\")\n",
    "\n",
    "        #third index of the list located at 0th\n",
    "        #of the third index of the inner list\n",
    "\n",
    "        print(\"Confidence: \" + str(round( item[2][0][2]*100,2)) + \"%\")\n",
    "        print(\"Lift: \" + str( round(item[2][0][3],2) ))"
   ]
  },
  {
   "cell_type": "markdown",
   "metadata": {
    "id": "rPb4aCpSe_tg"
   },
   "source": [
    "## Example for the ECLAT algorithm in Python with real data"
   ]
  },
  {
   "cell_type": "code",
   "execution_count": null,
   "metadata": {
    "colab": {
     "base_uri": "https://localhost:8080/"
    },
    "id": "X0nATuPFe-6t",
    "outputId": "cc1bdc92-7b35-4be4-e65f-7c073c7405bb"
   },
   "outputs": [],
   "source": [
    "rule_count = 0\n",
    "rules = eclat(purchases, supp=1, zmin=2)\n",
    "for i in range(0,len(rules)):\n",
    "    supp = round(int(rules[i][1])/len(purchases)*100,3)\n",
    "    items = rules[i][0]\n",
    "    if \"nan\" not in items:\n",
    "        rule_count = rule_count +1\n",
    "        item_1 = rules[i][0][0]\n",
    "        item_2 = rules[i][0][1]\n",
    "        print(\"If \"+str(item_1)+\" is purchased, \"+str(supp)+\"% of the time \" + str(item_2)+\" is purchased [absolute support=\" +str(rules[i][1])+\"]\")\n",
    "print(\"Total rules built : \" +str(rule_count))"
   ]
  },
  {
   "cell_type": "code",
   "execution_count": null,
   "metadata": {
    "colab": {
     "base_uri": "https://localhost:8080/",
     "height": 770
    },
    "id": "FH6y7gfIfKyo",
    "outputId": "c45981d9-dcef-4ecc-ee1b-627c725100b0"
   },
   "outputs": [],
   "source": [
    "rules_e = eclat(purchases, supp=1, zmin=2)\n",
    "eclat_final = [];\n",
    "for item in rules_e:\n",
    "    pair = item[0]\n",
    "    if \"nan\" not in pair:\n",
    "        #print(pair)\n",
    "        eclat_final.append([item[0][0], item[0][1], item[1]])\n",
    "eclat_final = pd.DataFrame(eclat_final, columns = ['Item1', 'Item2', 'Support'])\n",
    "eclat_final.sort_values(by=['Support'],ascending=False)"
   ]
  }
 ],
 "metadata": {
  "colab": {
   "name": "DATA 310 Association Rules.ipynb",
   "provenance": []
  },
  "kernelspec": {
   "display_name": "Python 3 (ipykernel)",
   "language": "python",
   "name": "python3"
  },
  "language_info": {
   "codemirror_mode": {
    "name": "ipython",
    "version": 3
   },
   "file_extension": ".py",
   "mimetype": "text/x-python",
   "name": "python",
   "nbconvert_exporter": "python",
   "pygments_lexer": "ipython3",
   "version": "3.9.10"
  }
 },
 "nbformat": 4,
 "nbformat_minor": 4
}
