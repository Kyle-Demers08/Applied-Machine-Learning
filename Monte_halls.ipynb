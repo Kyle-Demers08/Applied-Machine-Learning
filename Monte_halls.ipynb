{
 "cells": [
  {
   "cell_type": "code",
   "execution_count": 1,
   "id": "41c75887-d992-4a35-9d06-d8219c70d276",
   "metadata": {},
   "outputs": [],
   "source": [
    "import random\n",
    "import numpy as np\n",
    "import matplotlib.pyplot as plt"
   ]
  },
  {
   "cell_type": "markdown",
   "id": "7c9e5e61-debe-47e5-a260-8e979b945b02",
   "metadata": {},
   "source": [
    "***Question 1:*** We make a mote carlo simulation for solving a monte hall problem"
   ]
  },
  {
   "cell_type": "code",
   "execution_count": 5,
   "id": "63c8b4f5-4357-4621-9c57-c61910c076e0",
   "metadata": {},
   "outputs": [
    {
     "data": {
      "text/plain": [
       "['goat', 'car', 'goat']"
      ]
     },
     "execution_count": 5,
     "metadata": {},
     "output_type": "execute_result"
    }
   ],
   "source": [
    "doors = ['goat','goat','car']\n",
    "random.shuffle(doors)\n",
    "#print(doors)"
   ]
  },
  {
   "cell_type": "code",
   "execution_count": 15,
   "id": "6ca89cba-63d4-4622-bf4e-8be322eef6d7",
   "metadata": {},
   "outputs": [],
   "source": [
    "#we need variables to keep track of number of ones if we play the game many times\n",
    "stick_wins = 0\n",
    "switch_wins = 0"
   ]
  },
  {
   "cell_type": "code",
   "execution_count": 20,
   "id": "53b472e5-bd7e-4f14-8b79-46d070b58cf3",
   "metadata": {},
   "outputs": [
    {
     "name": "stdout",
     "output_type": "stream",
     "text": [
      "stick wins are: 1 switch wins are: 2\n"
     ]
    }
   ],
   "source": [
    "#program one interation of the game\n",
    "random.shuffle(doors)\n",
    "#The contestant makes a choice\n",
    "choice = random.randint(0,2)\n",
    "if doors[choice] == 'car':\n",
    "    stick_wins += 1\n",
    "else:\n",
    "    switch_wins += 1\n",
    "print('stick wins are: ' + str(stick_wins) + ' switch wins are: ' + str(switch_wins))"
   ]
  },
  {
   "cell_type": "code",
   "execution_count": 31,
   "id": "bc9b622e-968f-4979-8d62-9c5a70a6cd36",
   "metadata": {},
   "outputs": [
    {
     "name": "stdout",
     "output_type": "stream",
     "text": [
      "stick wins probability: 0.3346\n",
      "switch wins probability: 0.6654\n"
     ]
    }
   ],
   "source": [
    "stick_wins = 0\n",
    "switch_wins = 0\n",
    "n = 100000\n",
    "for i in range(n): #the actual simulation\n",
    "    random.shuffle(doors)\n",
    "    #The contestant makes a choice\n",
    "    choice = random.randint(0,2)\n",
    "    if doors[choice] == 'car':\n",
    "        stick_wins += 1\n",
    "    else:\n",
    "        switch_wins += 1\n",
    "print('stick wins probability: ' + str(stick_wins / n))\n",
    "print('switch wins probability: ' + str(switch_wins / n))"
   ]
  },
  {
   "cell_type": "code",
   "execution_count": 29,
   "id": "c8037328-4c5b-4a42-9d30-b57349d4407f",
   "metadata": {},
   "outputs": [
    {
     "data": {
      "text/plain": [
       "1"
      ]
     },
     "execution_count": 29,
     "metadata": {},
     "output_type": "execute_result"
    }
   ],
   "source": [
    "np.random.randint(3)"
   ]
  },
  {
   "cell_type": "markdown",
   "id": "eda089d3-e0ba-441a-867f-2f25538b83ef",
   "metadata": {},
   "source": [
    "We can implement a setup that has four doors instead of three\n",
    "\n",
    "This changes the probabilities"
   ]
  },
  {
   "cell_type": "code",
   "execution_count": 34,
   "id": "458dd5ca-a7fb-4106-b9b1-c3997c3bf4c5",
   "metadata": {},
   "outputs": [
    {
     "data": {
      "text/plain": [
       "['goat', 'car', 'goat']"
      ]
     },
     "execution_count": 34,
     "metadata": {},
     "output_type": "execute_result"
    }
   ],
   "source": [
    "doors = ['goat','goat','car','goat']\n",
    "doors.pop(0)\n",
    "doors"
   ]
  },
  {
   "cell_type": "code",
   "execution_count": 35,
   "id": "aca038b8-b804-4964-a5b3-5b091b54bde9",
   "metadata": {},
   "outputs": [
    {
     "data": {
      "text/plain": [
       "['car', 'goat']"
      ]
     },
     "execution_count": 35,
     "metadata": {},
     "output_type": "execute_result"
    }
   ],
   "source": [
    "doors.remove('goat')\n",
    "doors"
   ]
  },
  {
   "cell_type": "code",
   "execution_count": 41,
   "id": "95e0ad9a-757b-4232-a0d4-f96789cd455d",
   "metadata": {},
   "outputs": [
    {
     "name": "stdout",
     "output_type": "stream",
     "text": [
      "Stick wins probability: 0.24748\n",
      "Switch wins probability: 0.37429\n",
      "Not winning probability: 0.37823\n"
     ]
    }
   ],
   "source": [
    "stick_wins = 0\n",
    "switch_wins = 0\n",
    "n = 100000\n",
    "for i in range(n): #the actual simulation\n",
    "    doors = ['goat','goat','car','goat']\n",
    "    random.shuffle(doors)\n",
    "    #The contestant makes a choice\n",
    "    choice = random.randint(0,3)\n",
    "    if doors[choice] == 'car':\n",
    "        stick_wins += 1\n",
    "    else:\n",
    "        doors.pop(choice)\n",
    "        doors.remove('goat')\n",
    "        new_choice = np.random.randint(2) # different way to say random.randint(0,1)\n",
    "        if doors[new_choice] == 'car':\n",
    "            switch_wins += 1\n",
    "print('Stick wins probability: ' + str(stick_wins / n))\n",
    "print('Switch wins probability: ' + str(switch_wins / n))\n",
    "print('Not winning probability: ' + str((n - (stick_wins + switch_wins)) / n))"
   ]
  },
  {
   "cell_type": "code",
   "execution_count": null,
   "id": "5ba58bb2-973f-4050-8480-ad72859e5510",
   "metadata": {},
   "outputs": [],
   "source": []
  },
  {
   "cell_type": "code",
   "execution_count": null,
   "id": "a0bd5ff4-276a-4751-8203-0ea77e6e8661",
   "metadata": {},
   "outputs": [],
   "source": []
  }
 ],
 "metadata": {
  "kernelspec": {
   "display_name": "Python 3 (ipykernel)",
   "language": "python",
   "name": "python3"
  },
  "language_info": {
   "codemirror_mode": {
    "name": "ipython",
    "version": 3
   },
   "file_extension": ".py",
   "mimetype": "text/x-python",
   "name": "python",
   "nbconvert_exporter": "python",
   "pygments_lexer": "ipython3",
   "version": "3.9.7"
  }
 },
 "nbformat": 4,
 "nbformat_minor": 5
}
