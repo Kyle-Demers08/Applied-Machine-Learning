{
 "cells": [
  {
   "cell_type": "code",
   "execution_count": 1,
   "id": "17545210-e5c9-46fc-85a4-20a7279ea303",
   "metadata": {},
   "outputs": [],
   "source": [
    "#Import necessary modules\n",
    "import pandas as pd\n",
    "import numpy as np\n",
    "import operator\n",
    "import pandas as pd\n",
    "from sklearn.preprocessing import StandardScaler\n",
    "from sklearn.linear_model import LogisticRegression\n",
    "from sklearn.model_selection import KFold\n",
    "from sklearn.metrics import accuracy_score, confusion_matrix as CM"
   ]
  },
  {
   "cell_type": "markdown",
   "id": "4ddba232-ba2b-473a-8518-415ed24d9def",
   "metadata": {},
   "source": [
    "Read in file then procede to prepare data for testing"
   ]
  },
  {
   "cell_type": "code",
   "execution_count": 2,
   "id": "46a8220a-b2e1-40fa-98b9-eba00c24dfd8",
   "metadata": {},
   "outputs": [],
   "source": [
    "data = pd.read_csv('safe_driver_prediction.csv', sep = ',')"
   ]
  },
  {
   "cell_type": "code",
   "execution_count": 3,
   "id": "70279414-53dd-4e1d-a752-f8f09f27e85b",
   "metadata": {},
   "outputs": [
    {
     "data": {
      "text/plain": [
       "(496007, 59)"
      ]
     },
     "execution_count": 3,
     "metadata": {},
     "output_type": "execute_result"
    }
   ],
   "source": [
    "data.shape"
   ]
  },
  {
   "cell_type": "code",
   "execution_count": 4,
   "id": "ac6d6582-4e5e-43d7-a723-955d7f9c6694",
   "metadata": {},
   "outputs": [
    {
     "data": {
      "text/html": [
       "<div>\n",
       "<style scoped>\n",
       "    .dataframe tbody tr th:only-of-type {\n",
       "        vertical-align: middle;\n",
       "    }\n",
       "\n",
       "    .dataframe tbody tr th {\n",
       "        vertical-align: top;\n",
       "    }\n",
       "\n",
       "    .dataframe thead th {\n",
       "        text-align: right;\n",
       "    }\n",
       "</style>\n",
       "<table border=\"1\" class=\"dataframe\">\n",
       "  <thead>\n",
       "    <tr style=\"text-align: right;\">\n",
       "      <th></th>\n",
       "      <th>id</th>\n",
       "      <th>target</th>\n",
       "      <th>ps_ind_01</th>\n",
       "      <th>ps_ind_02_cat</th>\n",
       "      <th>ps_ind_03</th>\n",
       "      <th>ps_ind_04_cat</th>\n",
       "      <th>ps_ind_05_cat</th>\n",
       "      <th>ps_ind_06_bin</th>\n",
       "      <th>ps_ind_07_bin</th>\n",
       "      <th>ps_ind_08_bin</th>\n",
       "      <th>...</th>\n",
       "      <th>ps_calc_11</th>\n",
       "      <th>ps_calc_12</th>\n",
       "      <th>ps_calc_13</th>\n",
       "      <th>ps_calc_14</th>\n",
       "      <th>ps_calc_15_bin</th>\n",
       "      <th>ps_calc_16_bin</th>\n",
       "      <th>ps_calc_17_bin</th>\n",
       "      <th>ps_calc_18_bin</th>\n",
       "      <th>ps_calc_19_bin</th>\n",
       "      <th>ps_calc_20_bin</th>\n",
       "    </tr>\n",
       "  </thead>\n",
       "  <tbody>\n",
       "    <tr>\n",
       "      <th>0</th>\n",
       "      <td>7</td>\n",
       "      <td>0</td>\n",
       "      <td>2</td>\n",
       "      <td>2</td>\n",
       "      <td>5</td>\n",
       "      <td>1</td>\n",
       "      <td>0</td>\n",
       "      <td>0</td>\n",
       "      <td>1</td>\n",
       "      <td>0</td>\n",
       "      <td>...</td>\n",
       "      <td>9.0</td>\n",
       "      <td>1.0</td>\n",
       "      <td>5.0</td>\n",
       "      <td>8.0</td>\n",
       "      <td>0.0</td>\n",
       "      <td>1.0</td>\n",
       "      <td>1.0</td>\n",
       "      <td>0.0</td>\n",
       "      <td>0.0</td>\n",
       "      <td>1.0</td>\n",
       "    </tr>\n",
       "    <tr>\n",
       "      <th>1</th>\n",
       "      <td>9</td>\n",
       "      <td>0</td>\n",
       "      <td>1</td>\n",
       "      <td>1</td>\n",
       "      <td>7</td>\n",
       "      <td>0</td>\n",
       "      <td>0</td>\n",
       "      <td>0</td>\n",
       "      <td>0</td>\n",
       "      <td>1</td>\n",
       "      <td>...</td>\n",
       "      <td>3.0</td>\n",
       "      <td>1.0</td>\n",
       "      <td>1.0</td>\n",
       "      <td>9.0</td>\n",
       "      <td>0.0</td>\n",
       "      <td>1.0</td>\n",
       "      <td>1.0</td>\n",
       "      <td>0.0</td>\n",
       "      <td>1.0</td>\n",
       "      <td>0.0</td>\n",
       "    </tr>\n",
       "    <tr>\n",
       "      <th>2</th>\n",
       "      <td>13</td>\n",
       "      <td>0</td>\n",
       "      <td>5</td>\n",
       "      <td>4</td>\n",
       "      <td>9</td>\n",
       "      <td>1</td>\n",
       "      <td>0</td>\n",
       "      <td>0</td>\n",
       "      <td>0</td>\n",
       "      <td>1</td>\n",
       "      <td>...</td>\n",
       "      <td>4.0</td>\n",
       "      <td>2.0</td>\n",
       "      <td>7.0</td>\n",
       "      <td>7.0</td>\n",
       "      <td>0.0</td>\n",
       "      <td>1.0</td>\n",
       "      <td>1.0</td>\n",
       "      <td>0.0</td>\n",
       "      <td>1.0</td>\n",
       "      <td>0.0</td>\n",
       "    </tr>\n",
       "    <tr>\n",
       "      <th>3</th>\n",
       "      <td>16</td>\n",
       "      <td>0</td>\n",
       "      <td>0</td>\n",
       "      <td>1</td>\n",
       "      <td>2</td>\n",
       "      <td>0</td>\n",
       "      <td>0</td>\n",
       "      <td>1</td>\n",
       "      <td>0</td>\n",
       "      <td>0</td>\n",
       "      <td>...</td>\n",
       "      <td>2.0</td>\n",
       "      <td>2.0</td>\n",
       "      <td>4.0</td>\n",
       "      <td>9.0</td>\n",
       "      <td>0.0</td>\n",
       "      <td>0.0</td>\n",
       "      <td>0.0</td>\n",
       "      <td>0.0</td>\n",
       "      <td>0.0</td>\n",
       "      <td>0.0</td>\n",
       "    </tr>\n",
       "    <tr>\n",
       "      <th>4</th>\n",
       "      <td>17</td>\n",
       "      <td>0</td>\n",
       "      <td>0</td>\n",
       "      <td>2</td>\n",
       "      <td>0</td>\n",
       "      <td>1</td>\n",
       "      <td>0</td>\n",
       "      <td>1</td>\n",
       "      <td>0</td>\n",
       "      <td>0</td>\n",
       "      <td>...</td>\n",
       "      <td>3.0</td>\n",
       "      <td>1.0</td>\n",
       "      <td>1.0</td>\n",
       "      <td>3.0</td>\n",
       "      <td>0.0</td>\n",
       "      <td>0.0</td>\n",
       "      <td>0.0</td>\n",
       "      <td>1.0</td>\n",
       "      <td>1.0</td>\n",
       "      <td>0.0</td>\n",
       "    </tr>\n",
       "  </tbody>\n",
       "</table>\n",
       "<p>5 rows × 59 columns</p>\n",
       "</div>"
      ],
      "text/plain": [
       "   id  target  ps_ind_01  ps_ind_02_cat  ps_ind_03  ps_ind_04_cat  \\\n",
       "0   7       0          2              2          5              1   \n",
       "1   9       0          1              1          7              0   \n",
       "2  13       0          5              4          9              1   \n",
       "3  16       0          0              1          2              0   \n",
       "4  17       0          0              2          0              1   \n",
       "\n",
       "   ps_ind_05_cat  ps_ind_06_bin  ps_ind_07_bin  ps_ind_08_bin  ...  \\\n",
       "0              0              0              1              0  ...   \n",
       "1              0              0              0              1  ...   \n",
       "2              0              0              0              1  ...   \n",
       "3              0              1              0              0  ...   \n",
       "4              0              1              0              0  ...   \n",
       "\n",
       "   ps_calc_11  ps_calc_12  ps_calc_13  ps_calc_14  ps_calc_15_bin  \\\n",
       "0         9.0         1.0         5.0         8.0             0.0   \n",
       "1         3.0         1.0         1.0         9.0             0.0   \n",
       "2         4.0         2.0         7.0         7.0             0.0   \n",
       "3         2.0         2.0         4.0         9.0             0.0   \n",
       "4         3.0         1.0         1.0         3.0             0.0   \n",
       "\n",
       "   ps_calc_16_bin  ps_calc_17_bin  ps_calc_18_bin  ps_calc_19_bin  \\\n",
       "0             1.0             1.0             0.0             0.0   \n",
       "1             1.0             1.0             0.0             1.0   \n",
       "2             1.0             1.0             0.0             1.0   \n",
       "3             0.0             0.0             0.0             0.0   \n",
       "4             0.0             0.0             1.0             1.0   \n",
       "\n",
       "   ps_calc_20_bin  \n",
       "0             1.0  \n",
       "1             0.0  \n",
       "2             0.0  \n",
       "3             0.0  \n",
       "4             0.0  \n",
       "\n",
       "[5 rows x 59 columns]"
      ]
     },
     "execution_count": 4,
     "metadata": {},
     "output_type": "execute_result"
    }
   ],
   "source": [
    "data.head(5)"
   ]
  },
  {
   "cell_type": "code",
   "execution_count": 5,
   "id": "c84cf394-5907-4d6d-9867-b7e40fede478",
   "metadata": {},
   "outputs": [
    {
     "data": {
      "text/plain": [
       "39"
      ]
     },
     "execution_count": 5,
     "metadata": {},
     "output_type": "execute_result"
    }
   ],
   "source": [
    "data.isnull().sum().sum()"
   ]
  },
  {
   "cell_type": "code",
   "execution_count": 6,
   "id": "3c6b6ab7-b0bf-46fb-aed0-405a9517520b",
   "metadata": {},
   "outputs": [],
   "source": [
    "#data.iloc[496006]\n",
    "#where all the NaN's are located"
   ]
  },
  {
   "cell_type": "code",
   "execution_count": 24,
   "id": "546f8686-1a9e-4794-a455-02449ecb97a7",
   "metadata": {},
   "outputs": [],
   "source": [
    "data = data.dropna()"
   ]
  },
  {
   "cell_type": "code",
   "execution_count": 8,
   "id": "854f1283-4cf2-497b-bd53-61746baa32a2",
   "metadata": {},
   "outputs": [
    {
     "data": {
      "text/plain": [
       "False"
      ]
     },
     "execution_count": 8,
     "metadata": {},
     "output_type": "execute_result"
    }
   ],
   "source": [
    "#make sure there are no more NaN\n",
    "data.isnull().values.any()"
   ]
  },
  {
   "cell_type": "code",
   "execution_count": 25,
   "id": "ef39f8c9-5eee-46e8-a267-1b7848749ae9",
   "metadata": {},
   "outputs": [],
   "source": [
    "target = data['target']\n",
    "features = data.loc[:,'ps_ind_01':'ps_calc_20_bin']"
   ]
  },
  {
   "cell_type": "code",
   "execution_count": 26,
   "id": "df6b2f53-8ec1-4a81-a240-e34037768208",
   "metadata": {},
   "outputs": [],
   "source": [
    "x = features.values\n",
    "y= target.values"
   ]
  },
  {
   "cell_type": "code",
   "execution_count": 11,
   "id": "3f24fc84-6c8b-4c27-8156-49964f4d8723",
   "metadata": {},
   "outputs": [
    {
     "name": "stdout",
     "output_type": "stream",
     "text": [
      "(496006,)\n"
     ]
    },
    {
     "data": {
      "text/plain": [
       "(496006, 57)"
      ]
     },
     "execution_count": 11,
     "metadata": {},
     "output_type": "execute_result"
    }
   ],
   "source": [
    "print(y.shape)\n",
    "x.shape"
   ]
  },
  {
   "cell_type": "code",
   "execution_count": 12,
   "id": "dce13b55-a63c-4dcf-87a7-d9b0a6401925",
   "metadata": {},
   "outputs": [],
   "source": [
    "no_claim = data.loc[data['target'] == 0]\n",
    "claim = data.loc[data['target'] == 1]"
   ]
  },
  {
   "cell_type": "code",
   "execution_count": 13,
   "id": "b5c7c07e-f663-40f5-9b72-a10d657ed873",
   "metadata": {},
   "outputs": [
    {
     "name": "stdout",
     "output_type": "stream",
     "text": [
      "(18042, 59)\n"
     ]
    },
    {
     "data": {
      "text/plain": [
       "(477964, 59)"
      ]
     },
     "execution_count": 13,
     "metadata": {},
     "output_type": "execute_result"
    }
   ],
   "source": [
    "#make sure no data was somehow lost\n",
    "print(claim.shape)\n",
    "no_claim.shape"
   ]
  },
  {
   "cell_type": "code",
   "execution_count": 4,
   "id": "fc4bbd8e-9a37-451d-a8e5-fbca5446c923",
   "metadata": {},
   "outputs": [],
   "source": [
    "model = LogisticRegression(solver='lbfgs',max_iter=100000)"
   ]
  },
  {
   "cell_type": "code",
   "execution_count": 10,
   "id": "c59b1e34-d341-4620-b1b2-a8a5d01eaf02",
   "metadata": {},
   "outputs": [],
   "source": [
    "testdata = data.iloc[0:1000]\n",
    "y = testdata['target'].values\n",
    "x = testdata.loc[:,'ps_ind_01':'ps_calc_20_bin'].values"
   ]
  },
  {
   "cell_type": "code",
   "execution_count": 11,
   "id": "5c66cd2c-0a5c-4740-b473-b48d8a598cb6",
   "metadata": {},
   "outputs": [
    {
     "data": {
      "text/plain": [
       "LogisticRegression(max_iter=100000)"
      ]
     },
     "execution_count": 11,
     "metadata": {},
     "output_type": "execute_result"
    }
   ],
   "source": [
    "model.fit(x, y)"
   ]
  },
  {
   "cell_type": "code",
   "execution_count": null,
   "id": "4e18ef7f-9af9-4b13-9c53-e42b7fe24d5b",
   "metadata": {},
   "outputs": [],
   "source": [
    "predicted_classes = model.predict(x)\n",
    "accuracy = accuracy_score(y,predicted_classes)\n",
    "print(model.coef_)\n",
    "print(model.intercept_)\n",
    "print(accuracy)"
   ]
  },
  {
   "cell_type": "code",
   "execution_count": null,
   "id": "386940d1-b6e7-4a0f-bf6b-1a7f0cd32d89",
   "metadata": {},
   "outputs": [],
   "source": [
    "# we need the actual cross- validations\n",
    "kf = KFold(n_splits=10,shuffle=True)\n",
    "accuracy = []\n",
    "model = LogisticRegression(solver='lbfgs',max_iter=500000)\n",
    "\n",
    "for idxtrain, idxtest in kf.split(x):    \n",
    "    xtrain = x[idxtrain]\n",
    "    xtest = x[idxtest]\n",
    "    ytrain = y[idxtrain]\n",
    "    ytest = y[idxtest]\n",
    "    model.fit(xtrain,ytrain)\n",
    "    predicted_classes = model.predict(xtest)\n",
    "    accuracy.append(accuracy_score(ytest,predicted_classes))\n",
    "print(np.mean(accuracy))"
   ]
  },
  {
   "cell_type": "markdown",
   "id": "b27f6f04-3071-4a2b-8aac-c1f2384b7f17",
   "metadata": {},
   "source": [
    "## For Cole: ## "
   ]
  },
  {
   "cell_type": "markdown",
   "id": "7b185f4d-4c5a-40d3-8ba3-d217d35b80d8",
   "metadata": {},
   "source": [
    "If there is a number above this starting in __0.*value*__ then the code is done and you can shut my laptop and turn off the monitors. text me what the number is too please. Pussy"
   ]
  },
  {
   "cell_type": "code",
   "execution_count": null,
   "id": "dc62e5a1-6f6c-48e0-b1c8-c839e9fb6e2a",
   "metadata": {},
   "outputs": [],
   "source": []
  }
 ],
 "metadata": {
  "kernelspec": {
   "display_name": "Python 3 (ipykernel)",
   "language": "python",
   "name": "python3"
  },
  "language_info": {
   "codemirror_mode": {
    "name": "ipython",
    "version": 3
   },
   "file_extension": ".py",
   "mimetype": "text/x-python",
   "name": "python",
   "nbconvert_exporter": "python",
   "pygments_lexer": "ipython3",
   "version": "3.9.10"
  }
 },
 "nbformat": 4,
 "nbformat_minor": 5
}
