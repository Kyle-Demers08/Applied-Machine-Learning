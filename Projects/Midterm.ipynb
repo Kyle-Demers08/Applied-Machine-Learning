{
 "cells": [
  {
   "cell_type": "code",
   "execution_count": 13,
   "id": "a29a8cc8-9800-4b71-ac97-c8f826815537",
   "metadata": {},
   "outputs": [],
   "source": [
    "#import modules\n",
    "import numpy as np\n",
    "import operator\n",
    "import pandas as pd\n",
    "from sklearn.preprocessing import StandardScaler\n",
    "from sklearn.linear_model import LinearRegression\n",
    "from sklearn.metrics import r2_score\n",
    "from sklearn.preprocessing import PolynomialFeatures\n",
    "from sklearn.linear_model import LinearRegression,Ridge, Lasso, ElasticNet\n",
    "from sklearn.model_selection import KFold\n",
    "from sklearn.pipeline import Pipeline\n",
    "from sklearn.svm import SVR\n",
    "from sklearn.metrics import mean_squared_error as mse\n",
    "from sklearn.model_selection import train_test_split\n",
    "import matplotlib.pyplot as plt"
   ]
  },
  {
   "cell_type": "code",
   "execution_count": 2,
   "id": "4fbb9a6f-9e8c-49ba-adc3-697ba895de96",
   "metadata": {},
   "outputs": [],
   "source": [
    "data = pd.read_csv('AirI.csv', sep = ' ', header = None)"
   ]
  },
  {
   "cell_type": "code",
   "execution_count": 3,
   "id": "cf13692d-1aab-44a6-bfe2-33e516322336",
   "metadata": {},
   "outputs": [
    {
     "data": {
      "text/plain": [
       "(111, 512)"
      ]
     },
     "execution_count": 3,
     "metadata": {},
     "output_type": "execute_result"
    }
   ],
   "source": [
    "data.shape"
   ]
  },
  {
   "cell_type": "markdown",
   "id": "84ae9fdd-61eb-46b1-9fae-5b114fdcae3f",
   "metadata": {},
   "source": [
    "## Which gives the highest validity ##"
   ]
  },
  {
   "cell_type": "code",
   "execution_count": 4,
   "id": "1bcaba05-2eeb-4a27-abe2-5527e08c7013",
   "metadata": {},
   "outputs": [],
   "source": [
    "x = data.loc[:,'1':'503'].values\n",
    "y = data[0].values"
   ]
  },
  {
   "cell_type": "code",
   "execution_count": 5,
   "id": "c91b3ac9-7b6d-4691-9c2d-bb9e7b90f9a9",
   "metadata": {},
   "outputs": [],
   "source": [
    "kf = KFold(n_splits=10,shuffle=True,random_state=123)\n",
    "scale = StandardScaler()\n",
    "poly = PolynomialFeatures(degree=1)"
   ]
  },
  {
   "cell_type": "code",
   "execution_count": 6,
   "id": "b68ba994-eaa7-4ece-bfda-70ce6b7c4d47",
   "metadata": {},
   "outputs": [],
   "source": [
    "pipe = Pipeline([['Scaler',scale],['Polynomial Features',poly]])"
   ]
  },
  {
   "cell_type": "code",
   "execution_count": 22,
   "id": "0e801310-d9f8-48db-821d-6ae2cd8dec65",
   "metadata": {},
   "outputs": [
    {
     "name": "stdout",
     "output_type": "stream",
     "text": [
      "Optimal alpha value: 151.000\n"
     ]
    }
   ],
   "source": [
    "# we need the actual cross- validations\n",
    "score = []\n",
    "score_tr = []\n",
    "score_te = []\n",
    "\n",
    "\n",
    "a_range = np.linspace(140,160,101)\n",
    "for i in a_range:\n",
    "    model = Ridge(alpha=i)\n",
    "    score_train = []\n",
    "    score_test = []\n",
    "    \n",
    "    for idxtrain, idxtest in kf.split(x):\n",
    "        xtrain = x[idxtrain]\n",
    "        xtest = x[idxtest]\n",
    "        ytrain = y[idxtrain]\n",
    "        ytest = y[idxtest]\n",
    "        # here we apply the pipeline\n",
    "        xpolytrain = pipe.fit_transform(xtrain)\n",
    "        xpolytest = pipe.transform(xtest)\n",
    "        model.fit(xpolytrain,ytrain)\n",
    "        score_train.append(model.score(xpolytrain,ytrain))\n",
    "        score_test.append(model.score(xpolytest,ytest))\n",
    "    score.append(np.abs(np.mean(score_train) - np.mean(score_test)))\n",
    "    score_tr.append(np.mean(score_train))\n",
    "    score_te.append(np.mean(score_test))\n",
    "idx = np.argmax(score_te)\n",
    "print('Optimal alpha value: ' + format(a_range[idx], '.3f')) "
   ]
  },
  {
   "cell_type": "code",
   "execution_count": 9,
   "id": "97ecd2f2-6c01-4c15-abec-c22cc71f4e3b",
   "metadata": {},
   "outputs": [
    {
     "name": "stdout",
     "output_type": "stream",
     "text": [
      "The internal validation R2 score is : 0.97081691225671\n",
      "The external validation R2 score is : 0.6143955028178116\n",
      "The optimal alpha for the Ridge Model is 151.000\n"
     ]
    }
   ],
   "source": [
    "# for the Ridge model\n",
    "print('The internal validation R2 score is : ' +str(score_tr[idx]))\n",
    "print('The external validation R2 score is : ' +str(score_te[idx]))\n",
    "print('The optimal alpha for the Ridge Model is ' + str(format(a_range[idx], '.3f')))"
   ]
  },
  {
   "cell_type": "code",
   "execution_count": 10,
   "id": "d0e11b04-bbe5-4939-8689-d1c66c611812",
   "metadata": {},
   "outputs": [
    {
     "name": "stdout",
     "output_type": "stream",
     "text": [
      "Optimal alpha value: 0.074\n"
     ]
    }
   ],
   "source": [
    "# we need the actual cross- validations\n",
    "score = []\n",
    "score_tr = []\n",
    "score_te = []\n",
    "\n",
    "\n",
    "a_range = np.linspace(.01,.3,101)\n",
    "for i in a_range:\n",
    "    model = Lasso(alpha=i)\n",
    "    score_train = []\n",
    "    score_test = []\n",
    "    \n",
    "    for idxtrain, idxtest in kf.split(x):\n",
    "        xtrain = x[idxtrain]\n",
    "        xtest = x[idxtest]\n",
    "        ytrain = y[idxtrain]\n",
    "        ytest = y[idxtest]\n",
    "        # here we apply the pipeline\n",
    "        xpolytrain = pipe.fit_transform(xtrain)\n",
    "        xpolytest = pipe.transform(xtest)\n",
    "        model.fit(xpolytrain,ytrain)\n",
    "        score_train.append(model.score(xpolytrain,ytrain))\n",
    "        score_test.append(model.score(xpolytest,ytest))\n",
    "    score.append(np.abs(np.mean(score_train) - np.mean(score_test)))\n",
    "    score_tr.append(np.mean(score_train))\n",
    "    score_te.append(np.mean(score_test))\n",
    "idx = np.argmax(score_te)\n",
    "print('Optimal alpha value: ' + format(a_range[idx], '.3f')) "
   ]
  },
  {
   "cell_type": "code",
   "execution_count": 11,
   "id": "6e18f4a1-503d-4ba5-8802-bbf516aa15cd",
   "metadata": {},
   "outputs": [
    {
     "name": "stdout",
     "output_type": "stream",
     "text": [
      "The internal validation R2 score is : 0.8440043580156292\n",
      "The external validation R2 score is : 0.5955890426205233\n",
      "The optimal alpha for the Lasso Model is 0.074\n"
     ]
    }
   ],
   "source": [
    "# for the Lasso Linear model\n",
    "print('The internal validation R2 score is : ' +str(score_tr[idx]))\n",
    "print('The external validation R2 score is : ' +str(score_te[idx]))\n",
    "print('The optimal alpha for the Lasso Model is ' + str(format(a_range[idx], '.3f')))"
   ]
  },
  {
   "cell_type": "code",
   "execution_count": 12,
   "id": "990e0793-7e27-4f1a-80b1-945630cd491e",
   "metadata": {},
   "outputs": [
    {
     "name": "stdout",
     "output_type": "stream",
     "text": [
      "Optimal alpha value: 0.149\n"
     ]
    }
   ],
   "source": [
    "# we need the actual cross- validations\n",
    "score = []\n",
    "score_tr = []\n",
    "score_te = []\n",
    "\n",
    "\n",
    "a_range = np.linspace(0.01,2,101)\n",
    "for i in a_range:\n",
    "    model = ElasticNet(alpha=i)\n",
    "    score_train = []\n",
    "    score_test = []\n",
    "    \n",
    "    for idxtrain, idxtest in kf.split(x):\n",
    "        xtrain = x[idxtrain]\n",
    "        xtest = x[idxtest]\n",
    "        ytrain = y[idxtrain]\n",
    "        ytest = y[idxtest]\n",
    "        # here we apply the pipeline\n",
    "        xpolytrain = pipe.fit_transform(xtrain)\n",
    "        xpolytest = pipe.transform(xtest)\n",
    "        model.fit(xpolytrain,ytrain)\n",
    "        score_train.append(model.score(xpolytrain,ytrain))\n",
    "        score_test.append(model.score(xpolytest,ytest))\n",
    "    score.append(np.abs(np.mean(score_train) - np.mean(score_test)))\n",
    "    score_tr.append(np.mean(score_train))\n",
    "    score_te.append(np.mean(score_test))\n",
    "idx = np.argmax(score_te)\n",
    "print('Optimal alpha value: ' + format(a_range[idx], '.3f')) "
   ]
  },
  {
   "cell_type": "code",
   "execution_count": 13,
   "id": "095a7f7d-b4b7-43df-9ad2-5dde13520f30",
   "metadata": {},
   "outputs": [
    {
     "name": "stdout",
     "output_type": "stream",
     "text": [
      "The internal validation R2 score is : 0.8378634790229776\n",
      "The external validation R2 score is : 0.5913973595452386\n",
      "The optimal alpha for the EN Model is 0.149\n"
     ]
    }
   ],
   "source": [
    "# for the EN model\n",
    "print('The internal validation R2 score is : ' +str(score_tr[idx]))\n",
    "print('The external validation R2 score is : ' +str(score_te[idx]))\n",
    "print('The optimal alpha for the EN Model is ' + str(format(a_range[idx], '.3f')))"
   ]
  },
  {
   "cell_type": "code",
   "execution_count": 16,
   "id": "e4409620-0ad5-4c1e-81a0-5666b5316892",
   "metadata": {},
   "outputs": [],
   "source": [
    "x = x.reshape(-1,1)\n",
    "y = y.reshape(-1,1)"
   ]
  },
  {
   "cell_type": "code",
   "execution_count": 7,
   "id": "a3ce8ae0-de1e-4ea2-bbb3-4dd16ff680e1",
   "metadata": {},
   "outputs": [
    {
     "name": "stdout",
     "output_type": "stream",
     "text": [
      "Optimal alpha value: 0.148\n"
     ]
    }
   ],
   "source": [
    "# we need the actual cross- validations\n",
    "score = []\n",
    "score_tr = []\n",
    "score_te = []\n",
    "\n",
    "\n",
    "a_range = np.linspace(0.1,.3,101)\n",
    "for eps in a_range:\n",
    "    model = SVR(kernel='linear',C=1,epsilon=eps)\n",
    "    score_train = []\n",
    "    score_test = []\n",
    "    \n",
    "    for idxtrain, idxtest in kf.split(x):\n",
    "        xtrain = x[idxtrain]\n",
    "        xtest = x[idxtest]\n",
    "        ytrain = y[idxtrain]\n",
    "        ytest = y[idxtest]\n",
    "        # here we apply the pipeline\n",
    "        xpolytrain = pipe.fit_transform(xtrain)\n",
    "        xpolytest = pipe.transform(xtest)\n",
    "        model.fit(xpolytrain,ytrain)\n",
    "        score_train.append(model.score(xpolytrain,ytrain))\n",
    "        score_test.append(model.score(xpolytest,ytest))\n",
    "    score.append(np.abs(np.mean(score_train) - np.mean(score_test)))\n",
    "    score_tr.append(np.mean(score_train))\n",
    "    score_te.append(np.mean(score_test))\n",
    "idx = np.argmax(score_te)\n",
    "print('Optimal alpha value: ' + format(a_range[idx], '.3f')) "
   ]
  },
  {
   "cell_type": "code",
   "execution_count": 8,
   "id": "7a157588-d289-40d0-925c-aa2750475f6d",
   "metadata": {},
   "outputs": [
    {
     "name": "stdout",
     "output_type": "stream",
     "text": [
      "The internal validation R2 score is : 0.9762675565842086\n",
      "The external validation R2 score is : 0.6058290001193631\n",
      "The optimal alpha for the SVR Model is 0.148\n"
     ]
    }
   ],
   "source": [
    "# for the SVR model\n",
    "print('The internal validation R2 score is : ' +str(score_tr[idx]))\n",
    "print('The external validation R2 score is : ' +str(score_te[idx]))\n",
    "print('The optimal alpha for the SVR Model is ' + str(format(a_range[idx], '.3f')))"
   ]
  },
  {
   "cell_type": "code",
   "execution_count": 18,
   "id": "74ce9923-41b6-4093-bab1-79dafc8e1132",
   "metadata": {},
   "outputs": [
    {
     "data": {
      "text/plain": [
       "(11,)"
      ]
     },
     "execution_count": 18,
     "metadata": {},
     "output_type": "execute_result"
    }
   ],
   "source": [
    "ytest.shape"
   ]
  },
  {
   "cell_type": "code",
   "execution_count": 16,
   "id": "cc4983be-b772-4713-b242-513c27aeb962",
   "metadata": {},
   "outputs": [
    {
     "ename": "ValueError",
     "evalue": "x and y must be the same size",
     "output_type": "error",
     "traceback": [
      "\u001b[0;31m---------------------------------------------------------------------------\u001b[0m",
      "\u001b[0;31mValueError\u001b[0m                                Traceback (most recent call last)",
      "Input \u001b[0;32mIn [16]\u001b[0m, in \u001b[0;36m<cell line: 9>\u001b[0;34m()\u001b[0m\n\u001b[1;32m      7\u001b[0m ax\u001b[38;5;241m.\u001b[39mset_xlim(\u001b[38;5;241m80\u001b[39m, \u001b[38;5;241m550\u001b[39m)\n\u001b[1;32m      8\u001b[0m ax\u001b[38;5;241m.\u001b[39mset_ylim(\u001b[38;5;241m0\u001b[39m, \u001b[38;5;241m90\u001b[39m)\n\u001b[0;32m----> 9\u001b[0m \u001b[43max\u001b[49m\u001b[38;5;241;43m.\u001b[39;49m\u001b[43mscatter\u001b[49m\u001b[43m(\u001b[49m\u001b[43mxtest\u001b[49m\u001b[43m,\u001b[49m\u001b[43m \u001b[49m\u001b[43mytest\u001b[49m\u001b[43m,\u001b[49m\u001b[43ms\u001b[49m\u001b[38;5;241;43m=\u001b[39;49m\u001b[38;5;241;43m25\u001b[39;49m\u001b[43m,\u001b[49m\u001b[43mcolor\u001b[49m\u001b[38;5;241;43m=\u001b[39;49m\u001b[38;5;124;43m'\u001b[39;49m\u001b[38;5;124;43mdeepskyblue\u001b[39;49m\u001b[38;5;124;43m'\u001b[39;49m\u001b[43m,\u001b[49m\u001b[43mec\u001b[49m\u001b[38;5;241;43m=\u001b[39;49m\u001b[38;5;124;43m'\u001b[39;49m\u001b[38;5;124;43mnavy\u001b[39;49m\u001b[38;5;124;43m'\u001b[39;49m\u001b[43m,\u001b[49m\u001b[43malpha\u001b[49m\u001b[38;5;241;43m=\u001b[39;49m\u001b[38;5;241;43m0.5\u001b[39;49m\u001b[43m)\u001b[49m\n\u001b[1;32m     10\u001b[0m ax\u001b[38;5;241m.\u001b[39mplot(xtest_sorted, model\u001b[38;5;241m.\u001b[39mpredict(xtest_sorted), color\u001b[38;5;241m=\u001b[39m\u001b[38;5;124m'\u001b[39m\u001b[38;5;124mred\u001b[39m\u001b[38;5;124m'\u001b[39m)\n\u001b[1;32m     11\u001b[0m ax\u001b[38;5;241m.\u001b[39mplot(xtest_sorted, model\u001b[38;5;241m.\u001b[39mpredict(xtest_sorted)\u001b[38;5;241m+\u001b[39meps, color\u001b[38;5;241m=\u001b[39m\u001b[38;5;124m'\u001b[39m\u001b[38;5;124morange\u001b[39m\u001b[38;5;124m'\u001b[39m)\n",
      "File \u001b[0;32m/opt/conda/lib/python3.9/site-packages/matplotlib/__init__.py:1412\u001b[0m, in \u001b[0;36m_preprocess_data.<locals>.inner\u001b[0;34m(ax, data, *args, **kwargs)\u001b[0m\n\u001b[1;32m   1409\u001b[0m \u001b[38;5;129m@functools\u001b[39m\u001b[38;5;241m.\u001b[39mwraps(func)\n\u001b[1;32m   1410\u001b[0m \u001b[38;5;28;01mdef\u001b[39;00m \u001b[38;5;21minner\u001b[39m(ax, \u001b[38;5;241m*\u001b[39margs, data\u001b[38;5;241m=\u001b[39m\u001b[38;5;28;01mNone\u001b[39;00m, \u001b[38;5;241m*\u001b[39m\u001b[38;5;241m*\u001b[39mkwargs):\n\u001b[1;32m   1411\u001b[0m     \u001b[38;5;28;01mif\u001b[39;00m data \u001b[38;5;129;01mis\u001b[39;00m \u001b[38;5;28;01mNone\u001b[39;00m:\n\u001b[0;32m-> 1412\u001b[0m         \u001b[38;5;28;01mreturn\u001b[39;00m \u001b[43mfunc\u001b[49m\u001b[43m(\u001b[49m\u001b[43max\u001b[49m\u001b[43m,\u001b[49m\u001b[43m \u001b[49m\u001b[38;5;241;43m*\u001b[39;49m\u001b[38;5;28;43mmap\u001b[39;49m\u001b[43m(\u001b[49m\u001b[43msanitize_sequence\u001b[49m\u001b[43m,\u001b[49m\u001b[43m \u001b[49m\u001b[43margs\u001b[49m\u001b[43m)\u001b[49m\u001b[43m,\u001b[49m\u001b[43m \u001b[49m\u001b[38;5;241;43m*\u001b[39;49m\u001b[38;5;241;43m*\u001b[39;49m\u001b[43mkwargs\u001b[49m\u001b[43m)\u001b[49m\n\u001b[1;32m   1414\u001b[0m     bound \u001b[38;5;241m=\u001b[39m new_sig\u001b[38;5;241m.\u001b[39mbind(ax, \u001b[38;5;241m*\u001b[39margs, \u001b[38;5;241m*\u001b[39m\u001b[38;5;241m*\u001b[39mkwargs)\n\u001b[1;32m   1415\u001b[0m     auto_label \u001b[38;5;241m=\u001b[39m (bound\u001b[38;5;241m.\u001b[39marguments\u001b[38;5;241m.\u001b[39mget(label_namer)\n\u001b[1;32m   1416\u001b[0m                   \u001b[38;5;129;01mor\u001b[39;00m bound\u001b[38;5;241m.\u001b[39mkwargs\u001b[38;5;241m.\u001b[39mget(label_namer))\n",
      "File \u001b[0;32m/opt/conda/lib/python3.9/site-packages/matplotlib/axes/_axes.py:4369\u001b[0m, in \u001b[0;36mAxes.scatter\u001b[0;34m(self, x, y, s, c, marker, cmap, norm, vmin, vmax, alpha, linewidths, edgecolors, plotnonfinite, **kwargs)\u001b[0m\n\u001b[1;32m   4367\u001b[0m y \u001b[38;5;241m=\u001b[39m np\u001b[38;5;241m.\u001b[39mma\u001b[38;5;241m.\u001b[39mravel(y)\n\u001b[1;32m   4368\u001b[0m \u001b[38;5;28;01mif\u001b[39;00m x\u001b[38;5;241m.\u001b[39msize \u001b[38;5;241m!=\u001b[39m y\u001b[38;5;241m.\u001b[39msize:\n\u001b[0;32m-> 4369\u001b[0m     \u001b[38;5;28;01mraise\u001b[39;00m \u001b[38;5;167;01mValueError\u001b[39;00m(\u001b[38;5;124m\"\u001b[39m\u001b[38;5;124mx and y must be the same size\u001b[39m\u001b[38;5;124m\"\u001b[39m)\n\u001b[1;32m   4371\u001b[0m \u001b[38;5;28;01mif\u001b[39;00m s \u001b[38;5;129;01mis\u001b[39;00m \u001b[38;5;28;01mNone\u001b[39;00m:\n\u001b[1;32m   4372\u001b[0m     s \u001b[38;5;241m=\u001b[39m (\u001b[38;5;241m20\u001b[39m \u001b[38;5;28;01mif\u001b[39;00m rcParams[\u001b[38;5;124m'\u001b[39m\u001b[38;5;124m_internal.classic_mode\u001b[39m\u001b[38;5;124m'\u001b[39m] \u001b[38;5;28;01melse\u001b[39;00m\n\u001b[1;32m   4373\u001b[0m          rcParams[\u001b[38;5;124m'\u001b[39m\u001b[38;5;124mlines.markersize\u001b[39m\u001b[38;5;124m'\u001b[39m] \u001b[38;5;241m*\u001b[39m\u001b[38;5;241m*\u001b[39m \u001b[38;5;241m2.0\u001b[39m)\n",
      "\u001b[0;31mValueError\u001b[0m: x and y must be the same size"
     ]
    },
    {
     "data": {
      "image/png": "[encoded data removed]",
      "text/plain": [
       "<Figure size 720x576 with 1 Axes>"
      ]
     },
     "metadata": {
      "needs_background": "light"
     },
     "output_type": "display_data"
    }
   ],
   "source": [
    "# Plot outputs\n",
    "# for meaningful plotting we need the x to be ordered\n",
    "dat = np.column_stack([xtest,ytest])\n",
    "dat_sorted = dat[dat[:,0].argsort(),:]\n",
    "xtest_sorted = dat_sorted[:,0].reshape(-1,1)\n",
    "fig, ax = plt.subplots(figsize=(10,8))\n",
    "ax.set_xlim(80, 550)\n",
    "ax.set_ylim(0, 90)\n",
    "ax.scatter(xtest, ytest,s=25,color='deepskyblue',ec='navy',alpha=0.5)\n",
    "ax.plot(xtest_sorted, model.predict(xtest_sorted), color='red')\n",
    "ax.plot(xtest_sorted, model.predict(xtest_sorted)+eps, color='orange')\n",
    "ax.plot(xtest_sorted, model.predict(xtest_sorted)-eps, color='orange')\n",
    "ax.set_xlabel('Features',fontsize=14,color='darkgreen')\n",
    "ax.set_ylabel('Target',fontsize=14,color='darkgreen')\n",
    "ax.set_title('SVR Predictions',fontsize=16,color='purple')\n",
    "ax.grid(b=True,which='major', color ='grey', linestyle='-', alpha=0.8)\n",
    "ax.grid(b=True,which='minor', color ='grey', linestyle='--', alpha=0.2)\n",
    "ax.minorticks_on()"
   ]
  },
  {
   "cell_type": "markdown",
   "id": "9a8a6a79-8d3f-4b51-a838-c81f6369fe1d",
   "metadata": {},
   "source": [
    "## Transpose and Determinant ##"
   ]
  },
  {
   "cell_type": "code",
   "execution_count": 39,
   "id": "85cb658c-863d-4faa-bc6a-aa355eb60654",
   "metadata": {},
   "outputs": [],
   "source": [
    "x = data.loc[:,'1':'503'].values"
   ]
  },
  {
   "cell_type": "code",
   "execution_count": 40,
   "id": "080321d6-88d6-440a-bf28-ae9a7a6f400d",
   "metadata": {},
   "outputs": [
    {
     "data": {
      "text/plain": [
       "(111, 503)"
      ]
     },
     "execution_count": 40,
     "metadata": {},
     "output_type": "execute_result"
    }
   ],
   "source": [
    "x.shape"
   ]
  },
  {
   "cell_type": "code",
   "execution_count": 41,
   "id": "96109da7-3d94-48c8-81b2-080d2f19c6c8",
   "metadata": {},
   "outputs": [
    {
     "data": {
      "text/plain": [
       "(503, 111)"
      ]
     },
     "execution_count": 41,
     "metadata": {},
     "output_type": "execute_result"
    }
   ],
   "source": [
    "x2 = np.transpose(x)\n",
    "x2.shape"
   ]
  },
  {
   "cell_type": "code",
   "execution_count": 42,
   "id": "4b7ddd25-ae6c-4df5-b3cc-082e649fe7bb",
   "metadata": {},
   "outputs": [],
   "source": [
    "multi = np.matmul(x2, x)"
   ]
  },
  {
   "cell_type": "code",
   "execution_count": 43,
   "id": "02b2246b-6e72-4826-acf1-4e3a7a780b6f",
   "metadata": {},
   "outputs": [
    {
     "data": {
      "text/plain": [
       "0.0"
      ]
     },
     "execution_count": 43,
     "metadata": {},
     "output_type": "execute_result"
    }
   ],
   "source": [
    "np.linalg.det(multi)"
   ]
  },
  {
   "cell_type": "code",
   "execution_count": 11,
   "id": "fba00624-13d7-4aa0-a417-95667b697fc3",
   "metadata": {},
   "outputs": [
    {
     "name": "stdout",
     "output_type": "stream",
     "text": [
      "Object `fitted_svr_model.predict` not found.\n"
     ]
    }
   ],
   "source": []
  },
  {
   "cell_type": "code",
   "execution_count": null,
   "id": "98835d17-be36-43b1-a6d9-6c6b3f77a083",
   "metadata": {},
   "outputs": [],
   "source": []
  }
 ],
 "metadata": {
  "kernelspec": {
   "display_name": "Python 3 (ipykernel)",
   "language": "python",
   "name": "python3"
  },
  "language_info": {
   "codemirror_mode": {
    "name": "ipython",
    "version": 3
   },
   "file_extension": ".py",
   "mimetype": "text/x-python",
   "name": "python",
   "nbconvert_exporter": "python",
   "pygments_lexer": "ipython3",
   "version": "3.9.10"
  }
 },
 "nbformat": 4,
 "nbformat_minor": 5
}
