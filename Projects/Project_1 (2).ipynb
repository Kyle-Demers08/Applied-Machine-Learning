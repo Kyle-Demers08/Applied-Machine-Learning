{
 "cells": [
  {
   "cell_type": "markdown",
   "id": "698e6a0c-29f7-4558-bb00-ac7a7798621b",
   "metadata": {},
   "source": [
    "## Project 1 ##\n",
    "Kyle Demers\n",
    "Data 310"
   ]
  },
  {
   "cell_type": "markdown",
   "id": "9886a1c3-0c71-4fbf-a4f5-f46b3751fca9",
   "metadata": {},
   "source": [
    "### Question 1 ###"
   ]
  },
  {
   "cell_type": "code",
   "execution_count": 1,
   "id": "3209445b-85a3-4547-b0b5-ed829390624c",
   "metadata": {},
   "outputs": [],
   "source": [
    "#import Necessary Modules\n",
    "import random\n",
    "from scipy.stats import beta, t\n",
    "import random\n",
    "import numpy as np"
   ]
  },
  {
   "cell_type": "code",
   "execution_count": 46,
   "id": "c5738f9e-a574-46bb-891a-9877c6cf8f2c",
   "metadata": {},
   "outputs": [],
   "source": [
    "def monte(n):\n",
    "    outcomes = ['lie', 'truth']\n",
    "    raining = ['raining', 'not raining']\n",
    "    truths = 0\n",
    "    lies = 0\n",
    "    for i in range (n):\n",
    "        x = 0\n",
    "        y = 0\n",
    "        rain = random.choice(raining)\n",
    "        person_1 = random.choice(outcomes)\n",
    "        person_2 = random.choice(outcomes)        \n",
    "        person_3 = random.choices(outcomes, weights = (.25,.75))  \n",
    "        person_4 = random.choices(outcomes, weights = (.25,.75)) \n",
    "        if person_1 == 'lie' and rain == 'raining': #says not raining, lie\n",
    "            x += 1\n",
    "        elif person_1 == 'truth' and rain == 'not raining': #says not raining, Truth\n",
    "            y += 1\n",
    "        if person_2 == 'lie' and rain == 'raining': #says not raining, lie\n",
    "            x += 1\n",
    "        elif person_2 == 'truth' and rain == 'not raining': #says not raining, Truth\n",
    "            y += 1\n",
    "        if person_3[0] == 'lie' and rain == 'raining': #says not raining, lie\n",
    "            x += 1\n",
    "        elif person_3[0] == 'truth' and rain == 'not raining': #says not raining, Truth\n",
    "            y += 1\n",
    "        if person_4[0] == 'lie' and rain == 'raining': #says not raining, lie\n",
    "            x += 1\n",
    "        elif person_4[0] == 'truth' and rain == 'not raining': #says not raining, Truth\n",
    "            y += 1\n",
    "        if x == 4:\n",
    "            lies += 1\n",
    "        if y == 4:\n",
    "            truths += 1\n",
    "    return('The probability that it is raining in Boston when all four friends say that it '\n",
    "           'is not raining' ' is ' + str('%.6f' % (lies/(truths + lies))))"
   ]
  },
  {
   "cell_type": "code",
   "execution_count": 47,
   "id": "704fa624-bb4c-4831-bdff-b35d120d45f1",
   "metadata": {},
   "outputs": [
    {
     "data": {
      "text/plain": [
       "'The probability that it is raining in Boston when all four friends say that it is not raining is 0.098315'"
      ]
     },
     "execution_count": 47,
     "metadata": {},
     "output_type": "execute_result"
    }
   ],
   "source": [
    "monte(100000)"
   ]
  },
  {
   "cell_type": "markdown",
   "id": "4b6fee8e-d864-4693-8d7c-88636718c036",
   "metadata": {},
   "source": [
    "### Question 2 ###"
   ]
  },
  {
   "cell_type": "code",
   "execution_count": 32,
   "id": "829738f2-1996-47b1-88b3-3bede0445165",
   "metadata": {},
   "outputs": [],
   "source": [
    "def mad_max(simulations):\n",
    "    miles_atl = 0\n",
    "    miles_nash = 0\n",
    "    atl_picks = 0\n",
    "    nash_picks = 0\n",
    "    for i in range(simulations):\n",
    "        atl_clear = random.choice(['St. Louis', 'New Orleans'])\n",
    "        nash_clear = random.choice(['St. Louis', 'New Orleans'])\n",
    "        choice_1 = random.choice(['Atlanta', 'Nashville']) #from New York\n",
    "        if choice_1 == 'Atlanta':\n",
    "            atl_picks += 1\n",
    "            miles_atl += 866 #New York to Atlanta\n",
    "            if atl_clear == 'St. Louis':\n",
    "                miles_atl += 555 + 662#Atlanta to St. Louis then Dallas\n",
    "            else:\n",
    "                miles_atl += 470 + 505 #Atlanta to New Orleans then Dallas\n",
    "        else:\n",
    "            nash_picks += 1\n",
    "            miles_nash += 900 #New York to Nashville\n",
    "            if nash_clear == 'St. Louis': \n",
    "                miles_nash += 309 + 662 #Nashville to St. Louis then Dallas\n",
    "            else:\n",
    "                miles_nash += 535 + 505 #Nashville to New Orleans then Dallas\n",
    "    if miles_atl/atl_picks > miles_nash/nash_picks:\n",
    "        return('Nashville is the quickest route, after ' + str(simulations) + ' simulations. Mad Max is expected'\n",
    "        ' to save about ' + str('%.2f' % ( miles_atl/atl_picks - miles_nash/nash_picks)) + ' miles')\n",
    "    else:\n",
    "        return('Atlanta is the quickest route, after ' + str(simulations) + ' simulations. Mad Max is expected'\n",
    "        ' to save about ' + str('%.2f' % ( miles_nash/nash_picks - miles_atl/atl_picks)) + ' miles')\n"
   ]
  },
  {
   "cell_type": "code",
   "execution_count": 33,
   "id": "e21fae8a-17c4-415d-92e9-cf7fc1590e82",
   "metadata": {},
   "outputs": [
    {
     "data": {
      "text/plain": [
       "'Nashville is the quickest route, after 100000 simulations Mad Max is expected to save about 56.58 miles'"
      ]
     },
     "execution_count": 33,
     "metadata": {},
     "output_type": "execute_result"
    }
   ],
   "source": [
    "mad_max(100000)"
   ]
  },
  {
   "cell_type": "markdown",
   "id": "813b619f-927a-4938-8510-2968e9a70b80",
   "metadata": {},
   "source": [
    "### Question 3 ###"
   ]
  },
  {
   "cell_type": "code",
   "execution_count": 40,
   "id": "1aefb7d1-c5b6-4767-90b4-b2b1510d6483",
   "metadata": {},
   "outputs": [],
   "source": [
    "def betamonte(simulations):\n",
    "    a = 1.6\n",
    "    b = 2.1\n",
    "    x = beta.rvs(size = 20000, a = a, b = b) #simulate an population pf size 20,000\n",
    "    mu = np.mean(x)\n",
    "    #get many many simple random samples\n",
    "    for i in range(1, 20000):\n",
    "        samples = np.array([np.random.choice(x,size=i,replace=True,p=None) for _i in range(simulations)])\n",
    "        means = np.mean(samples, axis = 1) #axis =1 computes the mean for each row\n",
    "        if (sum(np.abs(means - mu) < .06)/simulations) > .95:\n",
    "            return('The minimum sample size where the distance between the sample mean and the population mean' \n",
    "                   ' has at least 95% chances to be less than 0.06 units is ' + str(i) + ' after conducting ' \n",
    "                   + str(simulations) + ' simulations.')\n",
    "            break"
   ]
  },
  {
   "cell_type": "code",
   "execution_count": 41,
   "id": "eb2fd5be-f113-4937-92a7-cf0960086241",
   "metadata": {},
   "outputs": [
    {
     "data": {
      "text/plain": [
       "'The minimum sample size where the distance between the sample mean and the population mean has at least 95% chances to be less than 0.06 units is 56 after conducting 10000 simulations.'"
      ]
     },
     "execution_count": 41,
     "metadata": {},
     "output_type": "execute_result"
    }
   ],
   "source": [
    "betamonte(10000)"
   ]
  },
  {
   "cell_type": "code",
   "execution_count": null,
   "id": "55426dd8-61ed-48fa-a84c-8d7071bef336",
   "metadata": {},
   "outputs": [],
   "source": []
  }
 ],
 "metadata": {
  "kernelspec": {
   "display_name": "Python 3 (ipykernel)",
   "language": "python",
   "name": "python3"
  },
  "language_info": {
   "codemirror_mode": {
    "name": "ipython",
    "version": 3
   },
   "file_extension": ".py",
   "mimetype": "text/x-python",
   "name": "python",
   "nbconvert_exporter": "python",
   "pygments_lexer": "ipython3",
   "version": "3.9.10"
  },
  "toc-showtags": false
 },
 "nbformat": 4,
 "nbformat_minor": 5
}
