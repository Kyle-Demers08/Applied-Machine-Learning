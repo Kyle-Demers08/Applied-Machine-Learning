{
 "cells": [
  {
   "cell_type": "code",
   "execution_count": 1,
   "id": "338f42b8-eb94-46af-813c-db15b3d06558",
   "metadata": {},
   "outputs": [],
   "source": [
    "import random\n",
    "import numpy as np\n",
    "import matplotlib.pyplot as plt"
   ]
  },
  {
   "cell_type": "code",
   "execution_count": 2,
   "id": "55b4e707-816f-4600-bf29-70ce078c0b52",
   "metadata": {},
   "outputs": [],
   "source": [
    "# example one flip a coin\n",
    "S = ['heads', 'tails'] # sample space"
   ]
  },
  {
   "cell_type": "code",
   "execution_count": 36,
   "id": "2e98a3e6-6ddf-429e-a766-943330b4d05e",
   "metadata": {},
   "outputs": [
    {
     "data": {
      "text/plain": [
       "array(['heads', 'tails', 'heads', 'heads', 'heads', 'heads', 'heads',\n",
       "       'tails', 'tails', 'heads', 'tails', 'tails', 'heads', 'tails',\n",
       "       'heads', 'tails', 'heads', 'tails', 'tails', 'heads', 'heads',\n",
       "       'heads', 'tails', 'tails', 'tails', 'heads', 'tails', 'heads',\n",
       "       'heads', 'heads', 'heads', 'tails', 'tails', 'tails', 'heads',\n",
       "       'heads', 'tails', 'heads', 'heads', 'tails', 'heads', 'tails',\n",
       "       'heads', 'tails', 'tails', 'tails', 'heads', 'heads', 'heads',\n",
       "       'heads', 'tails', 'tails', 'heads', 'heads', 'tails', 'heads',\n",
       "       'tails', 'heads', 'heads', 'tails', 'heads', 'tails', 'heads',\n",
       "       'tails', 'heads', 'heads', 'heads', 'heads', 'tails', 'heads',\n",
       "       'heads', 'tails', 'tails', 'tails', 'tails', 'heads', 'heads',\n",
       "       'heads', 'heads', 'tails', 'tails', 'heads', 'heads', 'heads',\n",
       "       'heads', 'tails', 'heads', 'tails', 'tails', 'heads', 'tails',\n",
       "       'tails', 'tails', 'heads', 'tails', 'tails', 'tails', 'heads',\n",
       "       'heads', 'heads'], dtype='<U5')"
      ]
     },
     "execution_count": 36,
     "metadata": {},
     "output_type": "execute_result"
    }
   ],
   "source": [
    "np.random.seed(123)\n",
    "n = 100\n",
    "flips = np.random.choice(S,n,replace = True, p = None)\n",
    "flips"
   ]
  },
  {
   "cell_type": "code",
   "execution_count": 37,
   "id": "3294efd1-62e1-4457-9133-68bcca259848",
   "metadata": {},
   "outputs": [
    {
     "data": {
      "text/plain": [
       "0.55"
      ]
     },
     "execution_count": 37,
     "metadata": {},
     "output_type": "execute_result"
    }
   ],
   "source": [
    "# we want to estimate the probability of getting heads\n",
    "sum(flips == 'heads')/len(flips)"
   ]
  },
  {
   "cell_type": "code",
   "execution_count": null,
   "id": "1695cc73-3d5b-44f6-a708-673b1b5eda8a",
   "metadata": {},
   "outputs": [],
   "source": []
  }
 ],
 "metadata": {
  "kernelspec": {
   "display_name": "Python 3 (ipykernel)",
   "language": "python",
   "name": "python3"
  },
  "language_info": {
   "codemirror_mode": {
    "name": "ipython",
    "version": 3
   },
   "file_extension": ".py",
   "mimetype": "text/x-python",
   "name": "python",
   "nbconvert_exporter": "python",
   "pygments_lexer": "ipython3",
   "version": "3.9.7"
  }
 },
 "nbformat": 4,
 "nbformat_minor": 5
}
